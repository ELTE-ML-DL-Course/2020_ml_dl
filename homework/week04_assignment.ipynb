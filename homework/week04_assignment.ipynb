{
 "cells": [
  {
   "cell_type": "markdown",
   "metadata": {},
   "source": [
    "### Exercise\n",
    "\n",
    "\n",
    "Download the [gene expression cancer RNA-Seq Data Set](https://archive.ics.uci.edu/ml/datasets/gene+expression+cancer+RNA-Seq) from the UCI Machine Learning Repository. This dataset contains gene expressions of patients having different types of tumor: BRCA, KIRC, COAD, LUAD and PRAD.\n",
    "\n",
    "1. Perform at least two different types of clustering. Check the clustering module in [scikit-learn](https://scikit-learn.org/stable/modules/clustering.html) and/or [scipy](https://docs.scipy.org/doc/scipy/reference/cluster.html). Do some preprocessing if necessary (check attributes, check for NaN values, perform dimension reduction, etc).\n",
    "2. Evaluate clustering performance using the [adjusted Rand score.](https://scikit-learn.org/stable/modules/generated/sklearn.metrics.adjusted_rand_score.html#sklearn.metrics.adjusted_rand_score) Try to achieve a clustering with Rand score higher than 0.985.\n",
    "3. Try some manifold learning methods for projecting the data to 2 dimensional space for visualization. Read the documentation for [Multidimensional scaling](https://scikit-learn.org/stable/modules/manifold.html#multidimensional-scaling) and [Stochastic neighbourhood embedding](https://scikit-learn.org/stable/modules/manifold.html#t-sne) and try them. You may try other methods as well."
   ]
  },
  {
   "cell_type": "code",
   "execution_count": null,
   "metadata": {},
   "outputs": [],
   "source": [
    "import numpy as np\n",
    "import pandas as pd\n",
    "import matplotlib.pyplot as plt\n",
    "import matplotlib.cm as cm\n",
    "\n",
    "\n",
    "from sklearn.metrics import adjusted_rand_score\n",
    "\n",
    "# add more imports if necessary\n",
    "# from sklearn.cluster import ...\n",
    "# from scipy.cluster import ..."
   ]
  }
 ],
 "metadata": {
  "kernelspec": {
   "display_name": "Python 3",
   "language": "python",
   "name": "python3"
  },
  "language_info": {
   "codemirror_mode": {
    "name": "ipython",
    "version": 3
   },
   "file_extension": ".py",
   "mimetype": "text/x-python",
   "name": "python",
   "nbconvert_exporter": "python",
   "pygments_lexer": "ipython3",
   "version": "3.8.5"
  }
 },
 "nbformat": 4,
 "nbformat_minor": 4
}

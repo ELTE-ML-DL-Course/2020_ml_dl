{
 "cells": [
  {
   "cell_type": "code",
   "execution_count": null,
   "metadata": {},
   "outputs": [],
   "source": [
    "import matplotlib.pyplot as plt\n",
    "import numpy as np"
   ]
  },
  {
   "cell_type": "markdown",
   "metadata": {},
   "source": [
    "#### (1)We have $100$ two-dimensional data points stored in matrix $A$. Find the row that is the closest (using Euclidean distance) to point $b$. "
   ]
  },
  {
   "cell_type": "code",
   "execution_count": null,
   "metadata": {},
   "outputs": [],
   "source": [
    "rs = np.random.RandomState(123)\n",
    "A = rs.rand(100, 2)\n",
    "b = np.array([0.12345, 0.6543])\n",
    "\n",
    "\n",
    "def closest_row_to_b(A, b):\n",
    "    pass"
   ]
  },
  {
   "cell_type": "markdown",
   "metadata": {},
   "source": [
    "#### (2) Download the Olivetti faces datasets using the sklearn.datasets fetcher and find the image that has the lowest average pixel intensity value.\n",
    "\n",
    "The following links might be helpful.\n",
    "\n",
    "https://scikit-learn.org/stable/datasets/index.html#olivetti-faces-dataset\n",
    "\n",
    "https://scikit-learn.org/stable/modules/generated/sklearn.datasets.fetch_olivetti_faces.html#sklearn.datasets.fetch_olivetti_faces"
   ]
  },
  {
   "cell_type": "code",
   "execution_count": null,
   "metadata": {},
   "outputs": [],
   "source": [
    "from sklearn.datasets import fetch_olivetti_faces\n",
    "\n",
    "\n",
    "def find_the_label_of_the_brightest_image():\n",
    "    pass"
   ]
  },
  {
   "cell_type": "markdown",
   "metadata": {},
   "source": [
    "#### (3) Download the Fashion-MNIST dataset and find the image that contains the largest number of completely white pixels.\n",
    "\n",
    "\n",
    "The following links might be helpful.\n",
    "\n",
    "https://scikit-learn.org/stable/datasets/index.html#openml\n",
    "\n",
    "https://scikit-learn.org/stable/modules/generated/sklearn.datasets.fetch_openml.html#sklearn.datasets.fetch_openml"
   ]
  },
  {
   "cell_type": "code",
   "execution_count": null,
   "metadata": {},
   "outputs": [],
   "source": [
    "from sklearn.datasets import fetch_openml\n",
    "\n",
    "\n",
    "def find_the_most_unfilled_fashion_image():\n",
    "    pass"
   ]
  },
  {
   "cell_type": "markdown",
   "metadata": {},
   "source": [
    "#### (4) (Bonus) What is the 1 millionth digit of the Champernowne constant?\n",
    "$$\n",
    "c = 0.1234567891011121314...\n",
    "$$\n",
    "\n",
    "https://en.wikipedia.org/wiki/Champernowne_constant"
   ]
  }
 ],
 "metadata": {
  "kernelspec": {
   "display_name": "Python 3",
   "language": "python",
   "name": "python3"
  },
  "language_info": {
   "codemirror_mode": {
    "name": "ipython",
    "version": 3
   },
   "file_extension": ".py",
   "mimetype": "text/x-python",
   "name": "python",
   "nbconvert_exporter": "python",
   "pygments_lexer": "ipython3",
   "version": "3.8.5"
  }
 },
 "nbformat": 4,
 "nbformat_minor": 4
}

{
 "cells": [
  {
   "cell_type": "markdown",
   "metadata": {},
   "source": [
    "#### (1) Print the numbers from 1 to 10 separated by a space in one line and in new lines as well"
   ]
  },
  {
   "cell_type": "code",
   "execution_count": null,
   "metadata": {},
   "outputs": [],
   "source": [
    "def print_horizontally():\n",
    "    pass\n",
    "\n",
    "\n",
    "def print_vertically():\n",
    "    pass"
   ]
  },
  {
   "cell_type": "markdown",
   "metadata": {},
   "source": [
    "#### (2) Sort a list of integer lists with respect to the length of the inner lists.\n",
    "\n",
    "Example: \n",
    "\n",
    "```python\n",
    "lst = [[1, 2, 4], [8], [7, 6], [], [3, 5, 9, 10]],\n",
    "```\n",
    "expected output: \n",
    "```python\n",
    "[[3, 5, 9, 10], [1, 2, 4], [7, 6], [8], []]\n",
    "```"
   ]
  },
  {
   "cell_type": "code",
   "execution_count": null,
   "metadata": {},
   "outputs": [],
   "source": [
    "def sort_by_length(lst):\n",
    "    pass"
   ]
  },
  {
   "cell_type": "markdown",
   "metadata": {},
   "source": [
    "#### (3) Flatten a list of integer lists.\n",
    "\n",
    "Example: \n",
    "\n",
    "```python\n",
    "lst = [[1, 2, 4], [8], [7, 6], [], [3, 5, 9, 10]],\n",
    "```\n",
    "expected output: \n",
    "```python\n",
    "[1, 2, 4, 8, 7, 6, 3, 5, 9, 10]\n",
    "```"
   ]
  },
  {
   "cell_type": "code",
   "execution_count": null,
   "metadata": {},
   "outputs": [],
   "source": [
    "def flatten(lst):\n",
    "    pass"
   ]
  },
  {
   "cell_type": "markdown",
   "metadata": {},
   "source": [
    "#### (4) Implement random-sort: given a list of integers, repeat the following two steps:\n",
    "1. check if the array is sorted in O(n) time\n",
    "2. permute the elements of the list randomly"
   ]
  },
  {
   "cell_type": "code",
   "execution_count": null,
   "metadata": {},
   "outputs": [],
   "source": [
    "def random_sort(lst):\n",
    "    pass"
   ]
  },
  {
   "cell_type": "markdown",
   "metadata": {},
   "source": [
    "#### (5) For a given string remove consecutive duplicate characters.\n",
    "\n",
    "Example:\n",
    "```python\n",
    "s = \"kukkkuuuurrrriiiikuuuuuuuu\"\n",
    "```\n",
    "\n",
    "Expected output:\n",
    "```python\n",
    "\"kukuriku\"\n",
    "```"
   ]
  },
  {
   "cell_type": "code",
   "execution_count": null,
   "metadata": {},
   "outputs": [],
   "source": [
    "def deduplicate(string):\n",
    "    pass"
   ]
  },
  {
   "cell_type": "markdown",
   "metadata": {},
   "source": [
    "#### (6) For a given $[a, b]$ interval ($a\\leq b$) return the list of Fibonacci numbers contained in this interval.\n",
    "\n",
    "The Fibonacci numbers are defined as follows:\n",
    "$$\n",
    "    f_0 = f_1 = 1, \\qquad f_n = f_{n-1} + f_{n-2} \\quad (n\\geq 2)\n",
    "$$"
   ]
  },
  {
   "cell_type": "code",
   "execution_count": null,
   "metadata": {},
   "outputs": [],
   "source": [
    "def fibonacci_numbers_in_interval(a, b):\n",
    "    pass"
   ]
  },
  {
   "cell_type": "markdown",
   "metadata": {},
   "source": [
    "#### (7) Return the 20 most frequent letters from the webpage https://en.wikipedia.org/wiki/Machine_learning"
   ]
  },
  {
   "cell_type": "code",
   "execution_count": null,
   "metadata": {},
   "outputs": [],
   "source": [
    "def top_20_most_frequent_letters(url):\n",
    "    pass"
   ]
  },
  {
   "cell_type": "markdown",
   "metadata": {},
   "source": [
    "#### (8) Implement complex number or rational number arithmetics using classes\n",
    "\n",
    "Represent them as an object, define the usual algebraic operations.\n",
    "\n",
    "Example: \n",
    "```python\n",
    "\n",
    "z = ComplexNumber(1, 2)  # 1 + 2i\n",
    "w = ComplexNumber(2, -3)  # 2 - 3i\n",
    "\n",
    "z * w = ComplexNumber(8, 1)  # 8 + i\n",
    "```\n",
    "\n",
    "or \n",
    "\n",
    "```python\n",
    "\n",
    "p = Rational(1, 4)  # 1/4\n",
    "\n",
    "p + p = Rational(1, 2) # 1/4 + 1/4 = 1/2\n",
    "```"
   ]
  },
  {
   "cell_type": "code",
   "execution_count": null,
   "metadata": {},
   "outputs": [],
   "source": [
    "class ComplexNumber:\n",
    "    pass"
   ]
  },
  {
   "cell_type": "markdown",
   "metadata": {},
   "source": [
    "#### (9) Bonus: given a finite sequence of integers, find the length of the longest increasing subsequence."
   ]
  },
  {
   "cell_type": "markdown",
   "metadata": {},
   "source": [
    "A subsequence of a sequence $a_1, a_2,\\dotsc,a_n$ is of the form $a_{i_1},\\dotsc,a_{i_k}$, where $i_1 < i_2 < \\ldots < i_k$.\n",
    "\n",
    "Example:\n",
    "```python\n",
    "lst = [5, 3, 2, 4, 6, 1]\n",
    "```\n",
    "Expected output:\n",
    "```python\n",
    "# the longest increasing subsequences are [2, 4, 6] or [3, 4, 6]\n",
    "3\n",
    "```"
   ]
  },
  {
   "cell_type": "code",
   "execution_count": null,
   "metadata": {},
   "outputs": [],
   "source": [
    "def longest_increasing_subsequence(lst):\n",
    "    pass"
   ]
  }
 ],
 "metadata": {
  "kernelspec": {
   "display_name": "Python 3",
   "language": "python",
   "name": "python3"
  },
  "language_info": {
   "codemirror_mode": {
    "name": "ipython",
    "version": 3
   },
   "file_extension": ".py",
   "mimetype": "text/x-python",
   "name": "python",
   "nbconvert_exporter": "python",
   "pygments_lexer": "ipython3",
   "version": "3.8.5"
  }
 },
 "nbformat": 4,
 "nbformat_minor": 4
}

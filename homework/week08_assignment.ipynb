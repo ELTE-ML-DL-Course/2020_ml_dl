{
 "cells": [
  {
   "cell_type": "markdown",
   "metadata": {},
   "source": [
    "### Exercise\n",
    "\n",
    "\n",
    "Train a classification model on the MNIST dataset. The dataset consists of $28\\times 28$ grayscale images of handwritten digits. Try to achieve at least $95\\%$ accuracy on the test set (this should not be hard). Try to achieve even higher accuracy, say $99\\%$ (this is not hard either). Actually, the MNIST dataset is considered as a too easy problem, since even the most basic classification algorithms can achieve very high precision. Still, it is a good opportunity to play around with various network architectures (fully connected layers and/or convolutional layers) and hyperparameters (number of hidden layers, number of units, regularization types and their parameters, various activation functions, etc.)\n",
    "\n",
    "Visualize the result, check some of the examples that are classified incorrectly."
   ]
  },
  {
   "cell_type": "code",
   "execution_count": null,
   "metadata": {},
   "outputs": [],
   "source": [
    "import tensorflow as tf\n",
    "\n",
    "# add more imports if needed"
   ]
  },
  {
   "cell_type": "code",
   "execution_count": null,
   "metadata": {},
   "outputs": [],
   "source": [
    "(X_train, y_train), (X_test, y_test) = tf.keras.datasets.mnist.load_data()"
   ]
  }
 ],
 "metadata": {
  "kernelspec": {
   "display_name": "Python 3",
   "language": "python",
   "name": "python3"
  },
  "language_info": {
   "codemirror_mode": {
    "name": "ipython",
    "version": 3
   },
   "file_extension": ".py",
   "mimetype": "text/x-python",
   "name": "python",
   "nbconvert_exporter": "python",
   "pygments_lexer": "ipython3",
   "version": "3.8.5"
  }
 },
 "nbformat": 4,
 "nbformat_minor": 4
}

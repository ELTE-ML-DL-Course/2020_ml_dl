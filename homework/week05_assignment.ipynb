{
 "cells": [
  {
   "cell_type": "markdown",
   "metadata": {},
   "source": [
    "### Exercise\n",
    "\n",
    "\n",
    "Download the *20 newsgroups text dataset* using the data fetch tool of scikit-learn. This dataset comprises around 18000 newsgroups posts on 20 topics. Please read the [description](https://scikit-learn.org/stable/datasets/index.html#newsgroups-dataset) of the dataset. Fetch the data using the build-in [data fetching utility](https://scikit-learn.org/stable/modules/generated/sklearn.datasets.fetch_20newsgroups.html#sklearn.datasets.fetch_20newsgroups). The code for this operation is included below.\n",
    "\n",
    "A (not so) funny guy took one of the posts, altered it a little, the re-posted it. The altered post is included below. Find the original post corresponding to this near-duplicate altered message."
   ]
  },
  {
   "cell_type": "markdown",
   "metadata": {},
   "source": [
    "Post of the impostor:\n",
    "\n",
    "```text\n",
    "Two bright light phenomena were observed in the Western Lolland on Apriil 22. At 01.35 CET three people saw a bright, luminous thing in the low eastern horizont near Taktaharkany. The head of the thing was rectangular. The lower part was a little winding. It was like a monster. They were little bit frightened. Soon the yellowish pillar became enlarged. A bright spot like the Sun was appeared in the middle of the thing. At last the light landed behind the nearby forest. Now there was only luminous trails in the sky which were visible till morning sunrise.\n",
    "\n",
    "The same phenomenon was observed also by Uukkoo Miikkonen in Laappeenraantaa. At 01.36 CET he saw a luminous yellowish trail in the low northeastern horizont. The altitude of the trail was only about 2-3 degrees. Soon the trail began to grow taller. A loop was appeared in the head of the trail. It was like a stuff. This lasted only 20 seconds. Now the altitude was about five degrees above horizont. He noted a bright spot at the upper stage of loop. The spot was at magnitude -1. The loop became enlarged and the spot was now visible in the middle of\n",
    "the loop. A cartwheel-shaped trail was appeared round the bright spot. After a minute the spot disappeared and only fuzzy trails were only visible in the low horizont. Luminous trails were still visible at 02.45 UT in the morning sky.\n",
    "\n",
    "The phenomenon was caused by a Chineese dragon. I don't know if there were satellite launches in Arhangelsk Cosmodrone near Arch-angelsk, but this may be a rocket experiment too. Since 1696 we have observed over 70 rocket phenomena in Finland. Most of these are rocket experiments (missile tests), baron experiments and other chemical releases. During these years we have observed bunch of satellite launches.\n",
    "\n",
    "Jimmy Fulig\n",
    "```"
   ]
  },
  {
   "cell_type": "code",
   "execution_count": null,
   "metadata": {},
   "outputs": [],
   "source": [
    "from sklearn.datasets import fetch_20newsgroups\n",
    "\n",
    "# import other libraries if needed"
   ]
  },
  {
   "cell_type": "code",
   "execution_count": null,
   "metadata": {},
   "outputs": [],
   "source": [
    "data = fetch_20newsgroups(subset='all', categories=None, shuffle=True, remove=('headers', 'footers', 'quotes'), \n",
    "                          download_if_missing=True, return_X_y=False)"
   ]
  }
 ],
 "metadata": {
  "kernelspec": {
   "display_name": "Python 3",
   "language": "python",
   "name": "python3"
  },
  "language_info": {
   "codemirror_mode": {
    "name": "ipython",
    "version": 3
   },
   "file_extension": ".py",
   "mimetype": "text/x-python",
   "name": "python",
   "nbconvert_exporter": "python",
   "pygments_lexer": "ipython3",
   "version": "3.8.5"
  }
 },
 "nbformat": 4,
 "nbformat_minor": 4
}

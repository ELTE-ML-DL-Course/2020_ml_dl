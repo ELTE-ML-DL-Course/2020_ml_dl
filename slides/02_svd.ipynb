{
 "cells": [
  {
   "cell_type": "markdown",
   "metadata": {
    "slideshow": {
     "slide_type": "slide"
    }
   },
   "source": [
    "Image compression using singular value decomposition\n",
    "=============================\n",
    "\n",
    "\n",
    "## Low-rank approximation of images"
   ]
  },
  {
   "cell_type": "code",
   "execution_count": null,
   "metadata": {
    "slideshow": {
     "slide_type": "fragment"
    }
   },
   "outputs": [],
   "source": [
    "import numpy as np\n",
    "import matplotlib.pyplot as plt\n",
    "\n",
    "from PIL import Image"
   ]
  },
  {
   "cell_type": "markdown",
   "metadata": {
    "slideshow": {
     "slide_type": "slide"
    }
   },
   "source": [
    "Let $A\\in\\mathbb{R}^{n\\times m}$ be an arbitrary matrix. Then there exist matrices $U\\in\\mathbb{R}^{n\\times n}$, $D\\in\\mathbb{R}^{n\\times m}$ and $V\\in\\mathbb{R}^{m\\times m}$, such that \n",
    "\n",
    "$$ \n",
    "A = UDV^*, \n",
    "$$ \n",
    "\n",
    "where $U$ and $V$ are unitary matrices, that is $U^*U = UU^* = I_n$ and $V^*V=VV^*=I_m$ and $D$ is a diagonal matrix, that is $d_{ij}=0$ if $i\\ne j$. The star operation means conjugate transpose, that is $(V^*)_{ij} = \\overline V_{ji}$, but since we are dealing with real matrices now, this is the same as the transpose of the matrix. The diagonal elements in $D$ are nonnegative numbers, in decreasing order: $d_{ii} = \\sigma_i$, $\\sigma_1\\geq\\sigma_2\\geq\\ldots\\geq\\sigma_r > \\sigma_{r+1} = \\ldots = \\sigma_{\\min(n,m)} = 0$, where $r$ is the rank of the matrix $A$. These $\\sigma$ values in the diagonal of $D$ are called the singular values of $A$."
   ]
  },
  {
   "cell_type": "markdown",
   "metadata": {
    "slideshow": {
     "slide_type": "slide"
    }
   },
   "source": [
    "#### Low-rank approximations\n",
    "\n",
    "Let $k\\in\\mathbb{N}$ a given natural number, where $k\\leq\\text{rank}(A)\\leq\\min\\{n, m\\}$. What we look for is a matrix $A_k$ having $\\text{rank}(A_k) = k$ which is the best approximation of $A$ among the matrices that have rank equals to $k$. To formulate the low-rank approximation problem, we would like to solve the following minimalization problem: \n",
    "\n",
    "$$ \n",
    "\\left|\\left| A - B \\right|\\right|_F \\to \\min !\\qquad \\mbox{ subject to }\\quad B\\in\\mathbb{R}^{n\\times m}, \\ \\text{rank}(B) = k. \n",
    "$$ \n",
    "\n",
    "Here $\\left|\\left| X \\right|\\right|_F$ denotes the Frobenius norm of a matrix $X$ which is the squareroot of the sum of squares of the elements of $X$.\n",
    "\n",
    "The solution of this problem can be obtained from the SVD-decomposition of $A$. If $A = UDV^*$, then we keep the first $k$ values in $D$ as is and set the subsequent singular values to zero. Let us denote the resulting diagonal matrix by $D_k$. It is easy to see that we only have to keep the first $k$ columns of $U$ and the first $k$ rows of $V$, since their other columns would be multiplied by zeros anyway. \n",
    "\n",
    "To sum up, the matrix $A_k := U_kD_kV_k^*$ is the closest matrix to $A$ (in Frobenius norm) having rank $k$, where $U_k$ and $V_k$ consist of the first $k$ columns and rows of $U$ and $V$, respectively."
   ]
  },
  {
   "cell_type": "code",
   "execution_count": null,
   "metadata": {
    "slideshow": {
     "slide_type": "slide"
    }
   },
   "outputs": [],
   "source": [
    "# A has rank 2 since its columns are linearly independent, but if A[2,1] would be 4 instead of 3, \n",
    "# the rank would be 1.\n",
    "A = np.array([[1, 2, 0, 0, 2, 3, -1, -2]]).reshape((4, 2))\n",
    "\n",
    "print(A)"
   ]
  },
  {
   "cell_type": "code",
   "execution_count": null,
   "metadata": {
    "slideshow": {
     "slide_type": "fragment"
    }
   },
   "outputs": [],
   "source": [
    "n, m = A.shape\n",
    "rank_A = np.linalg.matrix_rank(A)\n",
    "\n",
    "print(f\"number of rows: {n}, number of columns: {m}\")\n",
    "print(f\"the rank of A is {rank_A}\")"
   ]
  },
  {
   "cell_type": "code",
   "execution_count": null,
   "metadata": {
    "slideshow": {
     "slide_type": "fragment"
    }
   },
   "outputs": [],
   "source": [
    "U, d, V_T = np.linalg.svd(A, full_matrices=True)\n",
    "print(f\"number of singular values: {len(d)}\")"
   ]
  },
  {
   "cell_type": "code",
   "execution_count": null,
   "metadata": {
    "slideshow": {
     "slide_type": "slide"
    }
   },
   "outputs": [],
   "source": [
    "D = np.concatenate((np.diag(d), np.zeros((n - len(d), m))), axis=0)\n",
    "A_restored = np.matmul(U, np.matmul(D, V_T))\n",
    "\n",
    "# A_restored = np.dot(U, np.dot(D, V_T))\n",
    "# A_restored = (U @ D) @ V_T\n",
    "\n",
    "print(A_restored)"
   ]
  },
  {
   "cell_type": "markdown",
   "metadata": {
    "slideshow": {
     "slide_type": "slide"
    }
   },
   "source": [
    "We mentioned that $A$ is \"almost\" a one-rank matrix, slightly changing one of its element would reduce its rank by $1$. So define a rank one matrix $B$ that has the same elements as $A$ with one exception."
   ]
  },
  {
   "cell_type": "code",
   "execution_count": null,
   "metadata": {
    "slideshow": {
     "slide_type": "fragment"
    }
   },
   "outputs": [],
   "source": [
    "B = np.array([[1, 2, 0, 0, 2, 4, -1, -2]]).reshape((4, 2))\n",
    "print(B)\n",
    "\n",
    "n, m = B.shape\n",
    "rank_B = np.linalg.matrix_rank(B)\n",
    "\n",
    "print(f\"number of rows: {n}, number of columns: {m}\")\n",
    "print(f\"the rank of B is {rank_B}\")\n",
    "\n",
    "distance = np.linalg.norm(A - B, \"fro\")\n",
    "print(f'Distance between A and B is: {distance}')"
   ]
  },
  {
   "cell_type": "code",
   "execution_count": null,
   "metadata": {
    "slideshow": {
     "slide_type": "slide"
    }
   },
   "outputs": [],
   "source": [
    "U_1 = U[:, :rank_B]\n",
    "D_1 = D[:rank_B, :rank_B]\n",
    "V_T_1 = V_T[:rank_B, :]\n",
    "\n",
    "A_1 = np.matmul(U_1, np.matmul(D_1, V_T_1))\n",
    "print(f\"the best (that is the closest) rank 1 approximation of A is \\n {A_1}\")\n",
    "\n",
    "dist_from_A_1 = np.linalg.norm(A - A_1, \"fro\")\n",
    "print(\"The Frobenius-norm of the difference matrix A-A_1 is {}.\".format(dist_from_A_1))"
   ]
  },
  {
   "cell_type": "markdown",
   "metadata": {
    "slideshow": {
     "slide_type": "slide"
    }
   },
   "source": [
    "Images are represented in a rectangular array where each element corresponds to the grayscale value for that pixel. For colored images we have a $3$-dimensional array of size $n\\times m\\times 3$, where $n$ and $m$ represents the number of pixels vertically and horizontally, respectively, and for each pixel we store the intensity for colors red, green and blue.\n",
    "\n",
    "What we are going to do is to repeat the low-rank approximation procedure above on a larger matrix, that is, we create the low-rank approximation of a matrix that represents an image for each color separately. The resulting $3$-dimensional array will be a good approximation of the original image, as we will see soon."
   ]
  },
  {
   "cell_type": "code",
   "execution_count": null,
   "metadata": {
    "slideshow": {
     "slide_type": "slide"
    }
   },
   "outputs": [],
   "source": [
    "image = np.array(Image.open(\"images/Castle_hill.jpg\"))"
   ]
  },
  {
   "cell_type": "code",
   "execution_count": null,
   "metadata": {
    "slideshow": {
     "slide_type": "slide"
    }
   },
   "outputs": [],
   "source": [
    "image = image / 255\n",
    "row, col, _ = image.shape\n",
    "print(\"pixels in one channel: {} * {}\".format(row, col))"
   ]
  },
  {
   "cell_type": "code",
   "execution_count": null,
   "metadata": {
    "slideshow": {
     "slide_type": "slide"
    }
   },
   "outputs": [],
   "source": [
    "fig = plt.figure(figsize=(15, 10))\n",
    "imgplot = plt.imshow(image)\n",
    "plt.title(\"Castle Hill, Budapest\")\n",
    "plt.show()"
   ]
  },
  {
   "cell_type": "code",
   "execution_count": null,
   "metadata": {
    "slideshow": {
     "slide_type": "slide"
    }
   },
   "outputs": [],
   "source": [
    "image_red = image[:, :, 0]\n",
    "image_green = image[:, :, 1]\n",
    "image_blue = image[:, :, 2]"
   ]
  },
  {
   "cell_type": "code",
   "execution_count": null,
   "metadata": {
    "slideshow": {
     "slide_type": "slide"
    }
   },
   "outputs": [],
   "source": [
    "U_r, d_r, V_r = np.linalg.svd(image_red, full_matrices=True)\n",
    "U_g, d_g, V_g = np.linalg.svd(image_green, full_matrices=True)\n",
    "U_b, d_b, V_b = np.linalg.svd(image_blue, full_matrices=True)"
   ]
  },
  {
   "cell_type": "code",
   "execution_count": null,
   "metadata": {
    "slideshow": {
     "slide_type": "slide"
    }
   },
   "outputs": [],
   "source": [
    "k = 50\n",
    "\n",
    "U_r_k = U_r[:, :k]\n",
    "V_r_k = V_r[:k, :]\n",
    "U_g_k = U_g[:, :k]\n",
    "V_g_k = V_g[:k, :]\n",
    "U_b_k = U_b[:, :k]\n",
    "V_b_k = V_b[:k, :]\n",
    "\n",
    "d_r_k = d_r[:k]\n",
    "d_g_k = d_g[:k]\n",
    "d_b_k = d_b[:k]"
   ]
  },
  {
   "cell_type": "code",
   "execution_count": null,
   "metadata": {
    "slideshow": {
     "slide_type": "slide"
    }
   },
   "outputs": [],
   "source": [
    "image_red_approx = np.matmul(U_r_k, np.matmul(np.diag(d_r_k), V_r_k))\n",
    "image_green_approx = np.matmul(U_g_k, np.matmul(np.diag(d_g_k), V_g_k))\n",
    "image_blue_approx = np.matmul(U_b_k, np.matmul(np.diag(d_b_k), V_b_k))"
   ]
  },
  {
   "cell_type": "code",
   "execution_count": null,
   "metadata": {
    "slideshow": {
     "slide_type": "slide"
    }
   },
   "outputs": [],
   "source": [
    "image_reconstructed = np.zeros((row, col, 3))\n",
    "\n",
    "image_reconstructed[:, :, 0] = image_red_approx\n",
    "image_reconstructed[:, :, 1] = image_green_approx\n",
    "image_reconstructed[:, :, 2] = image_blue_approx"
   ]
  },
  {
   "cell_type": "code",
   "execution_count": null,
   "metadata": {
    "slideshow": {
     "slide_type": "slide"
    }
   },
   "outputs": [],
   "source": [
    "fig = plt.figure(figsize=(15, 10))\n",
    "plt.imshow(image_reconstructed)\n",
    "plt.title('Castle hill, compressed image using the best rank-{} approximation'.format(k))\n",
    "plt.show()"
   ]
  },
  {
   "cell_type": "code",
   "execution_count": null,
   "metadata": {
    "slideshow": {
     "slide_type": "slide"
    }
   },
   "outputs": [],
   "source": [
    "print(np.max(image_reconstructed))\n",
    "print(np.min(image_reconstructed))"
   ]
  },
  {
   "cell_type": "code",
   "execution_count": null,
   "metadata": {
    "slideshow": {
     "slide_type": "fragment"
    }
   },
   "outputs": [],
   "source": [
    "image_reconstructed[image_reconstructed < 0] = 0\n",
    "image_reconstructed[image_reconstructed > 1] = 1"
   ]
  },
  {
   "cell_type": "code",
   "execution_count": null,
   "metadata": {
    "slideshow": {
     "slide_type": "slide"
    }
   },
   "outputs": [],
   "source": [
    "fig = plt.figure(figsize=(15, 10))\n",
    "plt.imshow(image_reconstructed)\n",
    "plt.title('Castle hill, compressed image using the best rank-{} approximation'.format(k))\n",
    "plt.show()"
   ]
  },
  {
   "cell_type": "code",
   "execution_count": null,
   "metadata": {
    "slideshow": {
     "slide_type": "slide"
    }
   },
   "outputs": [],
   "source": [
    "def compress_an_image(filename, k=50):\n",
    "    image = np.array(Image.open(filename))\n",
    "    image = image / 255\n",
    "    row, col, _ = image.shape\n",
    "    \n",
    "    U_r, d_r, V_r = np.linalg.svd(image[:, :, 0], full_matrices=True)\n",
    "    U_g, d_g, V_g = np.linalg.svd(image[:, :, 1], full_matrices=True)\n",
    "    U_b, d_b, V_b = np.linalg.svd(image[:, :, 2], full_matrices=True)\n",
    "    \n",
    "    U_r_k = U_r[:, :k]\n",
    "    V_r_k = V_r[:k, :]\n",
    "    U_g_k = U_g[:, :k]\n",
    "    V_g_k = V_g[:k, :]\n",
    "    U_b_k = U_b[:, :k]\n",
    "    V_b_k = V_b[:k, :]\n",
    "\n",
    "    d_r_k = d_r[:k]\n",
    "    d_g_k = d_g[:k]\n",
    "    d_b_k = d_b[:k]\n",
    "\n",
    "    image_red_approx = np.matmul(U_r_k, np.matmul(np.diag(d_r_k), V_r_k))\n",
    "    image_green_approx = np.matmul(U_g_k, np.matmul(np.diag(d_g_k), V_g_k))\n",
    "    image_blue_approx = np.matmul(U_b_k, np.matmul(np.diag(d_b_k), V_b_k))\n",
    "\n",
    "    image_reconstructed = np.zeros((row, col, 3))\n",
    "    image_reconstructed[:, :, 0] = image_red_approx\n",
    "    image_reconstructed[:, :, 1] = image_green_approx\n",
    "    image_reconstructed[:, :, 2] = image_blue_approx\n",
    "    image_reconstructed[image_reconstructed < 0] = 0\n",
    "    image_reconstructed[image_reconstructed > 1] = 1\n",
    "    return image, image_reconstructed"
   ]
  },
  {
   "cell_type": "code",
   "execution_count": null,
   "metadata": {
    "slideshow": {
     "slide_type": "slide"
    }
   },
   "outputs": [],
   "source": [
    "image, image_compressed = compress_an_image(filename=\"images/Castle_hill.jpg\", k=100)"
   ]
  },
  {
   "cell_type": "code",
   "execution_count": null,
   "metadata": {
    "slideshow": {
     "slide_type": "slide"
    }
   },
   "outputs": [],
   "source": [
    "fig = plt.figure(figsize=(16, 16))\n",
    "plt.subplot(1, 2, 1)\n",
    "plt.imshow(image)\n",
    "plt.subplot(1, 2, 2)\n",
    "plt.imshow(image_compressed)\n",
    "plt.show()"
   ]
  }
 ],
 "metadata": {
  "celltoolbar": "Slideshow",
  "kernelspec": {
   "display_name": "Python 3",
   "language": "python",
   "name": "python3"
  },
  "language_info": {
   "codemirror_mode": {
    "name": "ipython",
    "version": 3
   },
   "file_extension": ".py",
   "mimetype": "text/x-python",
   "name": "python",
   "nbconvert_exporter": "python",
   "pygments_lexer": "ipython3",
   "version": "3.8.5"
  }
 },
 "nbformat": 4,
 "nbformat_minor": 4
}

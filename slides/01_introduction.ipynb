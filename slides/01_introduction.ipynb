{
 "cells": [
  {
   "cell_type": "markdown",
   "metadata": {
    "slideshow": {
     "slide_type": "slide"
    }
   },
   "source": [
    "# Machine Learning\n",
    "\n",
    "ELTE Course\n",
    "\n",
    "\n",
    "2020 Autumn"
   ]
  },
  {
   "cell_type": "markdown",
   "metadata": {
    "slideshow": {
     "slide_type": "slide"
    }
   },
   "source": [
    "**What is Artificial Intelligence (AI)?**\n",
    "\n",
    "* The term \"artificial intelligence\" is often used to describe machines (or computers) that mimic \"cognitive\" functions that humans associate with the human mind, such as \"learning\" and \"problem solving\". (Wikipedia)\n",
    "\n",
    "* *AI is whatever hasn't been done yet* (example: optical character recognition is frequently excluded from things considered to be AI, having become a routine technology)\n",
    "\n",
    "Phylosophy, Cognitive Psychology, Logic, Computer Science"
   ]
  },
  {
   "cell_type": "markdown",
   "metadata": {
    "slideshow": {
     "slide_type": "slide"
    }
   },
   "source": [
    "**What is Machine learning (ML)?**\n",
    "\n",
    "* Machine learning (ML) is the study of computer algorithms that improve automatically through experience. (Wikipedia)\n",
    "\n",
    "* Machine learning is a field of study that gives computers the ability to learn without being explicitly programmed. (Arthur Samuel, 1959)"
   ]
  },
  {
   "cell_type": "markdown",
   "metadata": {
    "slideshow": {
     "slide_type": "slide"
    }
   },
   "source": [
    "Traditional programming\n",
    "\n",
    "$$\\left.\\begin{array}{l} \\text{data} \\\\ \\text{rules} \\end{array}\\right\\} \\Longrightarrow \\text{answers} $$\n",
    "\n",
    "Machine learning programming\n",
    "\n",
    "$$\\left.\\begin{array}{l} \\text{data} \\\\ \\text{answers} \\end{array}\\right\\} \\Longrightarrow \\text{rules} $$\n",
    "\n",
    "An ML system is *trained* instead of explicitly programmed."
   ]
  },
  {
   "cell_type": "markdown",
   "metadata": {
    "slideshow": {
     "slide_type": "slide"
    }
   },
   "source": [
    "Without this paradigm-shift, how one would\n",
    "\n",
    "* detect objects in images in various lighting conditions \n",
    "* make pixel-level decisions about the object it belongs to\n",
    "* translate one language to another\n",
    "* generate image captions automatically\n",
    "* etc."
   ]
  },
  {
   "cell_type": "markdown",
   "metadata": {
    "slideshow": {
     "slide_type": "slide"
    }
   },
   "source": [
    "![](../img/object_detection_example.png)"
   ]
  },
  {
   "cell_type": "markdown",
   "metadata": {
    "slideshow": {
     "slide_type": "slide"
    }
   },
   "source": [
    "![](../img/segmentation_example.png)"
   ]
  },
  {
   "cell_type": "markdown",
   "metadata": {
    "slideshow": {
     "slide_type": "slide"
    }
   },
   "source": [
    "![](../img/image_caption_generation_example.png)"
   ]
  },
  {
   "cell_type": "markdown",
   "metadata": {
    "slideshow": {
     "slide_type": "slide"
    }
   },
   "source": [
    "## Machine learning algorithms\n",
    "\n",
    "### supervised learning \n",
    "\n",
    "The answers are given. By chosing a model, learn its parameters using the (data, label) pairs to be able to make predictions.\n",
    "* regression problems: predicting a continuous value output.\n",
    "* classification problems: assigning an example to one of the given classes, predicting discrete values. \n",
    "    * given a sentence, is it positive or negative\n",
    "    * given an image, is it a cat or dog or human"
   ]
  },
  {
   "cell_type": "markdown",
   "metadata": {
    "slideshow": {
     "slide_type": "slide"
    }
   },
   "source": [
    "### unsupervised learning\n",
    "\n",
    "Answers are not given. The goal is to look for previously undetected patterns in the data.\n",
    "\n",
    "* clustering\n",
    "* dimensionality reduction\n",
    "* matrix factorization methods\n",
    "* anomaly detection"
   ]
  },
  {
   "cell_type": "markdown",
   "metadata": {
    "slideshow": {
     "slide_type": "slide"
    }
   },
   "source": [
    "### and many other fields\n",
    "\n",
    "* reinforcement learning\n",
    "* semi-supervised learning\n",
    "* recommender systems\n",
    "* document similarity\n",
    "* topic modeling\n",
    "* data mining"
   ]
  }
 ],
 "metadata": {
  "celltoolbar": "Slideshow",
  "kernelspec": {
   "display_name": "Python 3",
   "language": "python",
   "name": "python3"
  },
  "language_info": {
   "codemirror_mode": {
    "name": "ipython",
    "version": 3
   },
   "file_extension": ".py",
   "mimetype": "text/x-python",
   "name": "python",
   "nbconvert_exporter": "python",
   "pygments_lexer": "ipython3",
   "version": "3.8.5"
  }
 },
 "nbformat": 4,
 "nbformat_minor": 4
}

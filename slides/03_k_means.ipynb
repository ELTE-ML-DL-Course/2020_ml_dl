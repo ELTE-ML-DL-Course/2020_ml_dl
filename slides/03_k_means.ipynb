{
 "cells": [
  {
   "cell_type": "code",
   "execution_count": null,
   "metadata": {
    "slideshow": {
     "slide_type": "slide"
    }
   },
   "outputs": [],
   "source": [
    "import numpy as np\n",
    "import matplotlib.pyplot as plt\n",
    "\n",
    "from PIL import Image\n",
    "from numpy.linalg import norm\n",
    "from scipy.spatial.distance import cdist\n",
    "from sklearn.cluster import KMeans"
   ]
  },
  {
   "cell_type": "markdown",
   "metadata": {
    "slideshow": {
     "slide_type": "slide"
    }
   },
   "source": [
    "![](../img/k_means_clustering.png)"
   ]
  },
  {
   "cell_type": "markdown",
   "metadata": {
    "slideshow": {
     "slide_type": "slide"
    }
   },
   "source": [
    "K-means optimization objective function\n",
    "\n",
    "$x^{(1)}, x^{(2)},\\dotsc,x^{(m)}$ are data points, $\\mu_1,\\dotsc,\\mu_k$ are cluster centers. \n",
    "\n",
    "Let \n",
    "* $c^{(i)}$ denote the index of the closest centroids to $x^{(i)}$.\n",
    "* $\\mu_{c^{(i)}}$ denote the centroid assigned to the $i^{\\text{th}}$ example.\n",
    "\n",
    "$$\n",
    "J(c^{(1)},\\dotsc,c^{(m)},\\mu_1,\\dotsc,\\mu_k) = \\frac1m\\sum_{i=1}^m \\left\\vert\\left\\vert x^{(i)} - \\mu_{c^{(i)}}\\right\\vert\\right\\vert ^2 \\rightarrow \\text{min}!\n",
    "$$\n",
    "is the distortion cost function."
   ]
  },
  {
   "cell_type": "code",
   "execution_count": null,
   "metadata": {
    "slideshow": {
     "slide_type": "slide"
    }
   },
   "outputs": [],
   "source": [
    "image_path = 'images/sloth.jpeg' \n",
    "\n",
    "image = np.array(Image.open(image_path))\n",
    "image = image / 255"
   ]
  },
  {
   "cell_type": "code",
   "execution_count": null,
   "metadata": {
    "slideshow": {
     "slide_type": "slide"
    }
   },
   "outputs": [],
   "source": [
    "fig = plt.figure(figsize=(15, 10))\n",
    "plt.imshow(image)\n",
    "plt.show()"
   ]
  },
  {
   "cell_type": "code",
   "execution_count": null,
   "metadata": {
    "slideshow": {
     "slide_type": "slide"
    }
   },
   "outputs": [],
   "source": [
    "def get_initial_centroids(data_points, number_of_clusters):\n",
    "    return data_points[:number_of_clusters, :]\n",
    "\n",
    "\n",
    "def assign_data_points_to_centroids(data_points, centroids):\n",
    "    return np.argmin(cdist(data_points, centroids), axis=1)\n",
    "\n",
    "\n",
    "def calculate_centroids(data_points, cluster_assignment, number_of_clusters, dimension):\n",
    "    centroids = np.zeros((number_of_clusters, dimension), dtype=np.float)\n",
    "    for k in range(number_of_clusters):\n",
    "        points_in_cluster_k = data_points[cluster_assignment == k, :]\n",
    "        centroids[k, :] = np.mean(points_in_cluster_k, axis=0)\n",
    "    return centroids"
   ]
  },
  {
   "cell_type": "code",
   "execution_count": null,
   "metadata": {
    "slideshow": {
     "slide_type": "slide"
    }
   },
   "outputs": [],
   "source": [
    "def centroids_remained_the_same(new_centroids, centroids):\n",
    "    for ix, centroid in enumerate(centroids):\n",
    "        if norm(centroid - new_centroids[ix, :]) > 1e-12:\n",
    "            return False\n",
    "    return True\n",
    "\n",
    "\n",
    "def lloyd_algoritm_for_k_means_clustering(data_points, number_of_clusters, dimension):\n",
    "    centroids = get_initial_centroids(data_points, number_of_clusters)\n",
    "    cluster_assignment = assign_data_points_to_centroids(data_points, centroids)\n",
    "    while True:\n",
    "        new_centroids = calculate_centroids(data_points, cluster_assignment, number_of_clusters, dimension)\n",
    "        if centroids_remained_the_same(new_centroids, centroids):\n",
    "            return centroids\n",
    "        centroids = new_centroids\n",
    "        cluster_assignment = assign_data_points_to_centroids(data_points, centroids)"
   ]
  },
  {
   "cell_type": "code",
   "execution_count": null,
   "metadata": {
    "slideshow": {
     "slide_type": "slide"
    }
   },
   "outputs": [],
   "source": [
    "nr_rows, nr_cols, _ = image.shape\n",
    "X = image.reshape(nr_rows * nr_cols, 3)\n",
    "\n",
    "nr_clusters = 10\n",
    "\n",
    "centroids = lloyd_algoritm_for_k_means_clustering(X, nr_clusters, 3)"
   ]
  },
  {
   "cell_type": "code",
   "execution_count": null,
   "metadata": {
    "slideshow": {
     "slide_type": "slide"
    }
   },
   "outputs": [],
   "source": [
    "cluster_assignments = assign_data_points_to_centroids(X, centroids)"
   ]
  },
  {
   "cell_type": "code",
   "execution_count": null,
   "metadata": {
    "slideshow": {
     "slide_type": "fragment"
    }
   },
   "outputs": [],
   "source": [
    "X_compressed = centroids[cluster_assignments, :].reshape(nr_rows, nr_cols, 3)"
   ]
  },
  {
   "cell_type": "code",
   "execution_count": null,
   "metadata": {
    "slideshow": {
     "slide_type": "slide"
    }
   },
   "outputs": [],
   "source": [
    "fig = plt.figure(figsize=(15, 10))\n",
    "plt.imshow(X_compressed)\n",
    "plt.show()"
   ]
  },
  {
   "cell_type": "markdown",
   "metadata": {
    "slideshow": {
     "slide_type": "slide"
    }
   },
   "source": [
    "### Remarks:\n",
    "\n",
    "\n",
    "farthest-first traversal:\n",
    "1. initial_centroid = a random data point, centroids = [initial_centroid]\n",
    "2. while len(centroids) < nr_clusters:\n",
    "       data_point = the point in Data maximizing d(data_points, centroids) \n",
    "       centroids.append(data_point\n",
    "\n",
    "k-means++\n",
    "1. Choose one center at random among the data points.\n",
    "2. For each data point x, compute D(x), the distance between x and the nearest center that has already been chosen.\n",
    "3. Choose one new data point at random as a new center, using a weighted probability distribution where a point x is chosen with probability proportional to $D(x)^2$."
   ]
  },
  {
   "cell_type": "code",
   "execution_count": null,
   "metadata": {
    "slideshow": {
     "slide_type": "slide"
    }
   },
   "outputs": [],
   "source": [
    "image = np.array(Image.open(\"images/Castle_hill.jpg\"))"
   ]
  },
  {
   "cell_type": "code",
   "execution_count": null,
   "metadata": {
    "slideshow": {
     "slide_type": "fragment"
    }
   },
   "outputs": [],
   "source": [
    "image = image / 255\n",
    "row, col, _ = image.shape\n",
    "print(\"pixels in one channel: {} * {}\".format(row, col))"
   ]
  },
  {
   "cell_type": "code",
   "execution_count": null,
   "metadata": {
    "slideshow": {
     "slide_type": "slide"
    }
   },
   "outputs": [],
   "source": [
    "fig = plt.figure(figsize=(15, 10))\n",
    "plt.imshow(image)\n",
    "plt.title(\"Castle Hill, Budapest\")\n",
    "plt.show()"
   ]
  },
  {
   "cell_type": "code",
   "execution_count": null,
   "metadata": {
    "slideshow": {
     "slide_type": "slide"
    }
   },
   "outputs": [],
   "source": [
    "X = image.reshape(row * col, 3)"
   ]
  },
  {
   "cell_type": "code",
   "execution_count": null,
   "metadata": {
    "slideshow": {
     "slide_type": "fragment"
    }
   },
   "outputs": [],
   "source": [
    "nr_clusters = 4\n",
    "\n",
    "kmeans = KMeans(n_clusters=nr_clusters, n_init=10, max_iter=30)\n",
    "cluster_assignments = kmeans.fit_predict(X)"
   ]
  },
  {
   "cell_type": "code",
   "execution_count": null,
   "metadata": {
    "slideshow": {
     "slide_type": "fragment"
    }
   },
   "outputs": [],
   "source": [
    "X_compressed = kmeans.cluster_centers_[cluster_assignments, :].reshape(row, col, 3)"
   ]
  },
  {
   "cell_type": "code",
   "execution_count": null,
   "metadata": {
    "slideshow": {
     "slide_type": "slide"
    }
   },
   "outputs": [],
   "source": [
    "fig = plt.figure(figsize=(15, 10))\n",
    "plt.imshow(X_compressed)\n",
    "plt.title(\"Castle Hill, Budapest\")\n",
    "plt.show()"
   ]
  }
 ],
 "metadata": {
  "celltoolbar": "Slideshow",
  "kernelspec": {
   "display_name": "Python 3",
   "language": "python",
   "name": "python3"
  },
  "language_info": {
   "codemirror_mode": {
    "name": "ipython",
    "version": 3
   },
   "file_extension": ".py",
   "mimetype": "text/x-python",
   "name": "python",
   "nbconvert_exporter": "python",
   "pygments_lexer": "ipython3",
   "version": "3.8.5"
  }
 },
 "nbformat": 4,
 "nbformat_minor": 4
}

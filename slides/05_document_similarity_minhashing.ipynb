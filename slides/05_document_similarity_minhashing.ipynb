{
 "cells": [
  {
   "cell_type": "code",
   "execution_count": null,
   "metadata": {
    "slideshow": {
     "slide_type": "slide"
    }
   },
   "outputs": [],
   "source": [
    "import numpy as np\n",
    "import os\n",
    "import pandas as pd\n",
    "import random\n",
    "import re\n",
    "import zipfile\n",
    "\n",
    "from collections import defaultdict, namedtuple\n",
    "from itertools import count\n",
    "\n",
    "from datasketch import MinHashLSHForest, MinHash"
   ]
  },
  {
   "cell_type": "code",
   "execution_count": null,
   "metadata": {
    "slideshow": {
     "slide_type": "slide"
    }
   },
   "outputs": [],
   "source": [
    "texts = [\"\"\"A strong earthquake has struck central Mexico, killing more than 200 people and toppling dozens of buildings\n",
    "            in the capital, Mexico City. More than 20 children died and 30 are missing after a school collapsed,\n",
    "            President Enrique Pena Nieto said. The 7.1 magnitude quake also caused major damage in neighbouring states.\n",
    "            It struck shortly after many people had taken part in an earthquake drill, exactly 32 years after a quake\n",
    "            killed thousands in Mexico City.\"\"\",\n",
    "         \"\"\"A strong earthquake has struck central Australia, killing more than 123 people and toppling dozens of buildings\n",
    "            in the capital, Canberra. More than 25 children died and 100 are missing after a school collapsed,\n",
    "            President Arnold Schwarzenegger said. The 6.2 magnitude quake also caused major damage in neighbouring states.\n",
    "            It struck shortly after many people had taken part in an earthquake drill, exactly 20 years after a quake\n",
    "            killed thousands in Kazakstan.\"\"\",\n",
    "         \"\"\"Spain's Guardia Civil police have detained 14 Catalan officials and raided regional government ministries\n",
    "            involved in organising a banned independence vote. Tensions were already high before Josep Maria Jove,\n",
    "            number two in the Catalan vice-presidency, and others were held. Thousands of Catalans took to the streets\n",
    "            in protest and the regional leader complained of a power grab. Spanish Prime Minister Mariano Rajoy said the\n",
    "            state had been forced to act.\"\"\"]"
   ]
  },
  {
   "cell_type": "code",
   "execution_count": null,
   "metadata": {
    "slideshow": {
     "slide_type": "slide"
    }
   },
   "outputs": [],
   "source": [
    "def shingling(text, k):\n",
    "    length = len(text)\n",
    "    if length < k:\n",
    "        return frozenset({})\n",
    "    return frozenset({text[ix:ix+k] for ix in range(length-k+1)})\n",
    "\n",
    "\n",
    "def clean_text(text):\n",
    "    return re.sub(\"\\s+\", \" \", text).strip()\n",
    "\n",
    "\n",
    "def read_document(file_path, k):\n",
    "    with open(file_path, \"r\", encoding=\"ISO-8859-1\") as article:\n",
    "        text = article.read().replace(\"\\n\", \" \")\n",
    "    cleaned_text = clean_text(text)\n",
    "    return shingling(cleaned_text.lower(), k)"
   ]
  },
  {
   "cell_type": "code",
   "execution_count": null,
   "metadata": {
    "slideshow": {
     "slide_type": "slide"
    }
   },
   "outputs": [],
   "source": [
    "class CharacteristicMatrixCreator:\n",
    "    def __init__(self):\n",
    "        self._encoding = dict()\n",
    "        self._decoding = dict()\n",
    "        self._code_generator = count()\n",
    "\n",
    "    def _add_item_to_encoding(self, shingle):\n",
    "        next_code = next(self._code_generator)\n",
    "        self._encoding[shingle] = next_code\n",
    "        self._decoding[next_code] = shingle\n",
    "        return next_code\n",
    "\n",
    "    def _encode(self, shingle):\n",
    "        if shingle in self._encoding:\n",
    "            return self._encoding[shingle]\n",
    "        return self._add_item_to_encoding(shingle)\n",
    "\n",
    "    def decode(self, number):\n",
    "        return self._decoding[number]\n",
    "\n",
    "    def create_characteristic_matrix(self, shingles, labels):\n",
    "        all_shingles = frozenset.union(*shingles)        \n",
    "        data_as_columns = [\n",
    "            {self._encode(shingle): 1 if shingle in text_shingles else 0 for shingle in all_shingles}\n",
    "            for text_shingles in shingles\n",
    "        ]\n",
    "        return pd.DataFrame(data_as_columns, index=labels).transpose()"
   ]
  },
  {
   "cell_type": "code",
   "execution_count": null,
   "metadata": {
    "slideshow": {
     "slide_type": "slide"
    }
   },
   "outputs": [],
   "source": [
    "cmc = CharacteristicMatrixCreator()\n",
    "\n",
    "\n",
    "df = cmc.create_characteristic_matrix(\n",
    "    [frozenset({\"ab\", \"bc\", \"xy\", \"tv\"}), \n",
    "     frozenset({\"ef\", \"bc\", \"xy\", \"za\", \"cd\"}),\n",
    "     frozenset({\"xy\", \"bc\", \"ab\", \"km\"})\n",
    "    ], [\"first\", \"second\", \"third\"])"
   ]
  },
  {
   "cell_type": "code",
   "execution_count": null,
   "metadata": {
    "slideshow": {
     "slide_type": "slide"
    }
   },
   "outputs": [],
   "source": [
    "df"
   ]
  },
  {
   "cell_type": "code",
   "execution_count": null,
   "metadata": {
    "slideshow": {
     "slide_type": "slide"
    }
   },
   "outputs": [],
   "source": [
    "def calc_jaccard_similarity(s, t):\n",
    "    return len(s & t) / len(s | t)\n",
    "\n",
    "      \n",
    "def find_index_of_first_nonzero_row(characteristic_vector):\n",
    "    return characteristic_vector[characteristic_vector==1].index[0]"
   ]
  },
  {
   "cell_type": "code",
   "execution_count": null,
   "metadata": {
    "slideshow": {
     "slide_type": "slide"
    }
   },
   "outputs": [],
   "source": [
    "def minhashing(characteristic_matrix, n):\n",
    "    rng = np.random.RandomState(123)\n",
    "    _, ncols = characteristic_matrix.shape\n",
    "    minhash_signatures = [[0]*n for _ in range(ncols)]\n",
    "    for j in range(n):\n",
    "        characteristic_matrix = characteristic_matrix.sample(frac=1, random_state=rng)\n",
    "        for col, colname in enumerate(characteristic_matrix.columns):\n",
    "            index = find_index_of_first_nonzero_row(characteristic_matrix[colname])\n",
    "            minhash_signatures[col][j] = index\n",
    "    return pd.DataFrame(data=minhash_signatures, index=characteristic_matrix.columns).transpose()"
   ]
  },
  {
   "cell_type": "code",
   "execution_count": null,
   "metadata": {
    "slideshow": {
     "slide_type": "slide"
    }
   },
   "outputs": [],
   "source": [
    "minhashing(df, 10)"
   ]
  },
  {
   "cell_type": "code",
   "execution_count": null,
   "metadata": {
    "slideshow": {
     "slide_type": "slide"
    }
   },
   "outputs": [],
   "source": [
    "def compute_similarity(shingles, signatures, i, j, n):\n",
    "    similarity = calc_jaccard_similarity(shingles[i], shingles[j])\n",
    "    approximate_similarity = sum([1 for elem1, elem2 \n",
    "                                  in zip(signatures.iloc[:, i], signatures.iloc[:, j]) \n",
    "                                  if elem1 == elem2]) / n\n",
    "    return similarity, approximate_similarity\n",
    "\n",
    "\n",
    "def create_shingles_from_text(text, k):\n",
    "    cleaned_text = clean_text(text)\n",
    "    return shingling(cleaned_text, k)"
   ]
  },
  {
   "cell_type": "code",
   "execution_count": null,
   "metadata": {
    "slideshow": {
     "slide_type": "slide"
    }
   },
   "outputs": [],
   "source": [
    "shingles = [create_shingles_from_text(text, 5) for text in texts]\n",
    "cmc = CharacteristicMatrixCreator()\n",
    "characteristic_matrix = cmc.create_characteristic_matrix(shingles, ['A', 'B', 'C'])\n",
    "\n",
    "n = 100\n",
    "signatures = minhashing(characteristic_matrix, n)"
   ]
  },
  {
   "cell_type": "code",
   "execution_count": null,
   "metadata": {
    "slideshow": {
     "slide_type": "slide"
    }
   },
   "outputs": [],
   "source": [
    "signatures[:10]"
   ]
  },
  {
   "cell_type": "code",
   "execution_count": null,
   "metadata": {
    "slideshow": {
     "slide_type": "slide"
    }
   },
   "outputs": [],
   "source": [
    "jaccard_similarity, approximate_similarity = compute_similarity(shingles, signatures, 0, 1, n)\n",
    "\n",
    "\n",
    "print(jaccard_similarity)\n",
    "print(approximate_similarity)"
   ]
  },
  {
   "cell_type": "code",
   "execution_count": null,
   "metadata": {
    "slideshow": {
     "slide_type": "slide"
    }
   },
   "outputs": [],
   "source": [
    "!wget http://mlg.ucd.ie/files/datasets/bbc-fulltext.zip -O /tmp/bbc-fulltext.zip"
   ]
  },
  {
   "cell_type": "code",
   "execution_count": null,
   "metadata": {
    "slideshow": {
     "slide_type": "subslide"
    }
   },
   "outputs": [],
   "source": [
    "zip_ref = zipfile.ZipFile('/tmp/bbc-fulltext.zip', 'r')\n",
    "zip_ref.extractall('/tmp/')\n",
    "zip_ref.close()"
   ]
  },
  {
   "cell_type": "code",
   "execution_count": null,
   "metadata": {
    "slideshow": {
     "slide_type": "slide"
    }
   },
   "outputs": [],
   "source": [
    "base_dir = '/tmp/bbc/'\n",
    "\n",
    "\n",
    "ShingledDocument = namedtuple(\"ShingledDocument\", [\"name\", \"shingles\"])\n",
    "\n",
    "\n",
    "def get_subfolders(path):\n",
    "    return [f.path for f in os.scandir(path) if f.is_dir()]\n",
    "\n",
    "\n",
    "def get_filenames(path):\n",
    "    return [f.path for f in os.scandir(path) if f.is_file()]"
   ]
  },
  {
   "cell_type": "code",
   "execution_count": null,
   "metadata": {
    "slideshow": {
     "slide_type": "slide"
    }
   },
   "outputs": [],
   "source": [
    "labels = get_subfolders(base_dir)\n",
    "\n",
    "print(labels)"
   ]
  },
  {
   "cell_type": "code",
   "execution_count": null,
   "metadata": {
    "slideshow": {
     "slide_type": "slide"
    }
   },
   "outputs": [],
   "source": [
    "def read_document(file_path):\n",
    "    with open(file_path, \"r\", encoding=\"ISO-8859-1\") as article:\n",
    "        text = article.read().replace(\"\\n\", \" \")\n",
    "    cleaned_text = clean_text(text)\n",
    "    return cleaned_text\n",
    "\n",
    "\n",
    "def iterate_over_documents(path, k):\n",
    "    subfolders = get_subfolders(path)\n",
    "    for subfolder in subfolders:\n",
    "        label = subfolder.split('/')[-1]\n",
    "        file_paths = get_filenames(subfolder)\n",
    "        for file_path in file_paths:\n",
    "            file_name = file_path.split('/')[-1]\n",
    "            content = read_document(file_path)\n",
    "            yield label, file_name, content"
   ]
  },
  {
   "cell_type": "code",
   "execution_count": null,
   "metadata": {
    "slideshow": {
     "slide_type": "slide"
    }
   },
   "outputs": [],
   "source": [
    "def create_document_shingles(path, k):\n",
    "    documents = []\n",
    "    document_generator = iterate_over_documents(path, k)\n",
    "    for label, file_name, text in document_generator:\n",
    "        shingles = create_shingles_from_text(text, k)\n",
    "        documents.append((label, file_name, shingles))\n",
    "    return documents"
   ]
  },
  {
   "cell_type": "code",
   "execution_count": null,
   "metadata": {
    "slideshow": {
     "slide_type": "slide"
    }
   },
   "outputs": [],
   "source": [
    "documents = create_document_shingles(base_dir, k=5)"
   ]
  },
  {
   "cell_type": "code",
   "execution_count": null,
   "metadata": {
    "slideshow": {
     "slide_type": "fragment"
    }
   },
   "outputs": [],
   "source": [
    "len(documents)"
   ]
  },
  {
   "cell_type": "code",
   "execution_count": null,
   "metadata": {
    "slideshow": {
     "slide_type": "fragment"
    }
   },
   "outputs": [],
   "source": [
    "documents[0]"
   ]
  },
  {
   "cell_type": "code",
   "execution_count": null,
   "metadata": {
    "slideshow": {
     "slide_type": "slide"
    }
   },
   "outputs": [],
   "source": [
    "class LSHForest:\n",
    "    def __init__(self, nr_permutations):\n",
    "        self._nr_permutations = nr_permutations\n",
    "        \n",
    "    def build_lsh_forest(self, documents):\n",
    "        forest = MinHashLSHForest(num_perm=self._nr_permutations)\n",
    "        for topic, name, word_counts in documents:\n",
    "            document_name = f'{topic}/{name}'\n",
    "            minhash = MinHash(num_perm=self._nr_permutations)\n",
    "            for word in word_counts:\n",
    "                minhash.update(word.encode(\"utf-8\"))\n",
    "            forest.add(document_name, minhash)\n",
    "        forest.index()\n",
    "        return forest\n",
    "    \n",
    "    def get_top_k_most_similar_documents(self, forest, query_document, k):\n",
    "        minhash = MinHash(num_perm=self._nr_permutations)\n",
    "        for word in query_document:\n",
    "            minhash.update(word.encode(\"utf-8\"))\n",
    "        return forest.query(minhash, k)"
   ]
  },
  {
   "cell_type": "code",
   "execution_count": null,
   "metadata": {
    "slideshow": {
     "slide_type": "slide"
    }
   },
   "outputs": [],
   "source": [
    "lsh_forest = LSHForest(nr_permutations=128)"
   ]
  },
  {
   "cell_type": "code",
   "execution_count": null,
   "metadata": {
    "slideshow": {
     "slide_type": "fragment"
    }
   },
   "outputs": [],
   "source": [
    "forest = lsh_forest.build_lsh_forest(documents)"
   ]
  },
  {
   "cell_type": "code",
   "execution_count": null,
   "metadata": {
    "slideshow": {
     "slide_type": "slide"
    }
   },
   "outputs": [],
   "source": [
    "path = '/home/tamas/Programok/Repositories/MachineLearningCourse/homework/bbc_near_duplicate_2.txt'\n",
    "\n",
    "\n",
    "text = read_document(path)\n",
    "query_shingles = create_shingles_from_text(text, k=5)"
   ]
  },
  {
   "cell_type": "code",
   "execution_count": null,
   "metadata": {
    "slideshow": {
     "slide_type": "slide"
    }
   },
   "outputs": [],
   "source": [
    "text"
   ]
  },
  {
   "cell_type": "code",
   "execution_count": null,
   "metadata": {
    "slideshow": {
     "slide_type": "fragment"
    }
   },
   "outputs": [],
   "source": [
    "res = lsh_forest.get_top_k_most_similar_documents(forest, query_shingles, 3)"
   ]
  },
  {
   "cell_type": "code",
   "execution_count": null,
   "metadata": {
    "slideshow": {
     "slide_type": "slide"
    }
   },
   "outputs": [],
   "source": [
    "res"
   ]
  },
  {
   "cell_type": "code",
   "execution_count": null,
   "metadata": {
    "scrolled": false,
    "slideshow": {
     "slide_type": "slide"
    }
   },
   "outputs": [],
   "source": [
    "for fname in res:\n",
    "    doc = read_document(f'{base_dir}{fname}')\n",
    "    print(doc)\n",
    "    print('\\n')"
   ]
  }
 ],
 "metadata": {
  "celltoolbar": "Slideshow",
  "kernelspec": {
   "display_name": "Python 3",
   "language": "python",
   "name": "python3"
  },
  "language_info": {
   "codemirror_mode": {
    "name": "ipython",
    "version": 3
   },
   "file_extension": ".py",
   "mimetype": "text/x-python",
   "name": "python",
   "nbconvert_exporter": "python",
   "pygments_lexer": "ipython3",
   "version": "3.8.5"
  }
 },
 "nbformat": 4,
 "nbformat_minor": 4
}

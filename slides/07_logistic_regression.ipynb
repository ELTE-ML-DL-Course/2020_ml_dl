{
 "cells": [
  {
   "cell_type": "markdown",
   "metadata": {
    "slideshow": {
     "slide_type": "slide"
    }
   },
   "source": [
    "# Logistic regression"
   ]
  },
  {
   "cell_type": "markdown",
   "metadata": {
    "slideshow": {
     "slide_type": "slide"
    }
   },
   "source": [
    "### Logistic regression for binary classification\n",
    "\n",
    "$h_w(x) \\approx P(y=1 \\vert w; x)$, the probability that $y = 1$ given $x$, parametrized by $w$.\n",
    "\n",
    "$$\n",
    "h(x) = \\sigma(b + w_1\\cdot x_1 + w_2\\cdot x_2 + \\ldots + w_n\\cdot x_n) = \\sigma(w^T\\cdot x + b),\n",
    "$$\n",
    "where\n",
    "$$\n",
    "\\sigma(x) = \\frac{1}{1 + e^{-x}}.\n",
    "$$\n",
    "\n",
    "If $h_w(x) = p$, then for the odds\n",
    "$$\n",
    "\\frac{p}{1-p} = \\text{e}^{w^T\\cdot x + b},\n",
    "$$\n",
    "and the log-odds (logit) is\n",
    "$$\n",
    "\\log\\frac{p}{1-p} = w^T\\cdot x + b\n",
    "$$\n",
    "\n",
    "The two classes are separated by a hyperplane: \n",
    "$$\n",
    "y = 1 \\iff w^T\\cdot x + b >= 0.\n",
    "$$"
   ]
  },
  {
   "cell_type": "markdown",
   "metadata": {
    "slideshow": {
     "slide_type": "slide"
    }
   },
   "source": [
    "The cost function is derived from the ML function:\n",
    "\n",
    "$$\n",
    "L(w, b) = \\prod_{x\\colon y=1}h_w(x)\\cdot\\prod_{x\\colon y=0}(1 - h_w(x)) \\rightarrow \\text{max!},\n",
    "$$\n",
    "that is, the negative loglikelihood function should be minimized:\n",
    "$$\n",
    "J(w, b) = \\frac{1}{m}\\sum_{i=1}^m\\left(-y^{(i)}\\cdot\\log h_w(x^{(i)}) - (1 - y^{(i)})\\cdot\\log (1 - h_w(x^{(i)}))\\right)\n",
    "$$"
   ]
  },
  {
   "cell_type": "markdown",
   "metadata": {
    "slideshow": {
     "slide_type": "slide"
    }
   },
   "source": [
    "Homework:\n",
    "    \n",
    "* show that $\\sigma'(x) = \\sigma(x)\\cdot(1 - \\sigma(x))$\n",
    "* show that $$\\frac{\\partial J(w, b)}{\\partial w_j} = \\frac{1}{m}\\sum_{i=1}^m\\left(h_w(x^{(i)}) - y ^{(i)}\\right)\\cdot x_j^{(i)},\n",
    "$$\n",
    "\n",
    "$$\n",
    "\\frac{\\partial J(w, b)}{\\partial b} = \\frac{1}{m}\\sum_{i=1}^m\\left(h_w(x^{(i)}) - y ^{(i)}\\right)\n",
    "$$"
   ]
  },
  {
   "cell_type": "code",
   "execution_count": null,
   "metadata": {
    "slideshow": {
     "slide_type": "slide"
    }
   },
   "outputs": [],
   "source": [
    "import matplotlib.pyplot as plt\n",
    "import numpy as np"
   ]
  },
  {
   "cell_type": "code",
   "execution_count": null,
   "metadata": {
    "slideshow": {
     "slide_type": "slide"
    }
   },
   "outputs": [],
   "source": [
    "with open(\"./data/log_reg_1.txt\") as f:\n",
    "    X = []\n",
    "    y = []\n",
    "    for line in f:\n",
    "        x0, x1, label = line.split(',')\n",
    "        X.append((float(x0), float(x1)))\n",
    "        y.append(int(label))\n",
    "        \n",
    "X = np.array(X)\n",
    "y = np.expand_dims(np.array(y), 1)"
   ]
  },
  {
   "cell_type": "code",
   "execution_count": null,
   "metadata": {
    "slideshow": {
     "slide_type": "slide"
    }
   },
   "outputs": [],
   "source": [
    "plt.figure(figsize=(12, 8))\n",
    "plt.scatter(X[:, 0], X[:, 1], c=y)\n",
    "plt.show()"
   ]
  },
  {
   "cell_type": "code",
   "execution_count": null,
   "metadata": {
    "slideshow": {
     "slide_type": "slide"
    }
   },
   "outputs": [],
   "source": [
    "def initialize_params(X):\n",
    "    _, nr_features = X.shape\n",
    "    w0 = np.zeros((nr_features, 1), dtype=np.float_)\n",
    "    b = 0.0\n",
    "    return w0, b\n",
    "\n",
    "\n",
    "def activation(Z):\n",
    "    return 1 / (1 + np.exp(-Z))\n",
    "\n",
    "\n",
    "def predict(X, w, b):\n",
    "    A = activation(np.matmul(X, w) + b)\n",
    "    return np.round(A)\n",
    "\n",
    "\n",
    "def calc_gradient(X, y, w, b):\n",
    "    m = len(X)\n",
    "    A = activation(np.matmul(X, w) + b)\n",
    "    cost = (-1 / m) * np.sum(np.multiply(y, np.log(A)) + np.multiply(1 - y, np.log(1 - A)))\n",
    "    \n",
    "    dZ = A - y\n",
    "    dw = (1 / m) * np.matmul(X.T, dZ)\n",
    "    db = (1 / m) * np.sum(dZ)\n",
    "    return cost, dw, db"
   ]
  },
  {
   "cell_type": "code",
   "execution_count": null,
   "metadata": {
    "slideshow": {
     "slide_type": "slide"
    }
   },
   "outputs": [],
   "source": [
    "def optimize(X, y, alpha, nr_iterations=10000):\n",
    "    w, b = initialize_params(X)\n",
    "    costs = []\n",
    "    for _ in range(nr_iterations):\n",
    "        cost, dw, db = calc_gradient(X, y, w, b)\n",
    "        costs.append(cost)\n",
    "        w = w - alpha * dw\n",
    "        b = b - alpha * db\n",
    "    return costs, w, b\n",
    "\n",
    "\n",
    "alpha = 0.001\n",
    "costs, w, b = optimize(X, y, alpha)"
   ]
  },
  {
   "cell_type": "code",
   "execution_count": null,
   "metadata": {
    "slideshow": {
     "slide_type": "slide"
    }
   },
   "outputs": [],
   "source": [
    "predictions = predict(X, w, b)\n",
    "\n",
    "\n",
    "def accuracy(predicted, ground_truth):\n",
    "    return np.sum(predicted == ground_truth) / len(ground_truth)\n",
    "\n",
    "\n",
    "print(accuracy(predictions, y))"
   ]
  },
  {
   "cell_type": "code",
   "execution_count": null,
   "metadata": {
    "slideshow": {
     "slide_type": "slide"
    }
   },
   "outputs": [],
   "source": [
    "import sklearn.metrics as mcs\n",
    "\n",
    "\n",
    "print(mcs.accuracy_score(predictions, y))\n",
    "print(mcs.roc_auc_score(y, predictions))\n",
    "\n",
    "# https://en.wikipedia.org/wiki/Receiver_operating_characteristic"
   ]
  },
  {
   "cell_type": "code",
   "execution_count": null,
   "metadata": {
    "slideshow": {
     "slide_type": "slide"
    }
   },
   "outputs": [],
   "source": [
    "mcs.confusion_matrix(y, predictions)"
   ]
  },
  {
   "cell_type": "code",
   "execution_count": null,
   "metadata": {
    "slideshow": {
     "slide_type": "slide"
    }
   },
   "outputs": [],
   "source": [
    "print(np.squeeze(predictions))"
   ]
  },
  {
   "cell_type": "code",
   "execution_count": null,
   "metadata": {
    "slideshow": {
     "slide_type": "slide"
    }
   },
   "outputs": [],
   "source": [
    "figure = plt.figure(figsize=(16, 8))\n",
    "plt.plot(costs)\n",
    "plt.ylim(0.0001, 0.7)\n",
    "plt.show()"
   ]
  },
  {
   "cell_type": "code",
   "execution_count": null,
   "metadata": {
    "slideshow": {
     "slide_type": "slide"
    }
   },
   "outputs": [],
   "source": [
    "m = np.mean(X, axis=0)\n",
    "s = np.std(X, axis=0, ddof=1)\n",
    "\n",
    "\n",
    "X = (X - m) / s"
   ]
  },
  {
   "cell_type": "code",
   "execution_count": null,
   "metadata": {
    "slideshow": {
     "slide_type": "fragment"
    }
   },
   "outputs": [],
   "source": [
    "alpha = 0.001\n",
    "costs, w, b = optimize(X, y, alpha, nr_iterations=10000)"
   ]
  },
  {
   "cell_type": "code",
   "execution_count": null,
   "metadata": {
    "slideshow": {
     "slide_type": "slide"
    }
   },
   "outputs": [],
   "source": [
    "figure = plt.figure(figsize=(16, 8))\n",
    "plt.plot(costs)\n",
    "plt.ylim(0.0001, 0.7)\n",
    "plt.show()"
   ]
  },
  {
   "cell_type": "code",
   "execution_count": null,
   "metadata": {
    "slideshow": {
     "slide_type": "slide"
    }
   },
   "outputs": [],
   "source": [
    "predictions = predict(X, w, b)\n",
    "\n",
    "\n",
    "print(mcs.accuracy_score(predictions, y))\n",
    "print(mcs.roc_auc_score(y, predictions))\n",
    "\n",
    "\n",
    "mcs.confusion_matrix(y, predictions)"
   ]
  }
 ],
 "metadata": {
  "celltoolbar": "Slideshow",
  "kernelspec": {
   "display_name": "Python 3",
   "language": "python",
   "name": "python3"
  },
  "language_info": {
   "codemirror_mode": {
    "name": "ipython",
    "version": 3
   },
   "file_extension": ".py",
   "mimetype": "text/x-python",
   "name": "python",
   "nbconvert_exporter": "python",
   "pygments_lexer": "ipython3",
   "version": "3.8.5"
  }
 },
 "nbformat": 4,
 "nbformat_minor": 4
}

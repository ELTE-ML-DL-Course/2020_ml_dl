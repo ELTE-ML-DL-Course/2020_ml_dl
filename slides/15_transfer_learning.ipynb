{
 "cells": [
  {
   "cell_type": "code",
   "execution_count": null,
   "metadata": {
    "slideshow": {
     "slide_type": "slide"
    }
   },
   "outputs": [],
   "source": [
    "import matplotlib.pyplot as plt\n",
    "import numpy as np\n",
    "import os\n",
    "import tarfile\n",
    "import tensorflow as tf\n",
    "\n",
    "from collections import Counter\n",
    "from scipy import misc\n",
    "from PIL import Image\n",
    "from sklearn.metrics import confusion_matrix\n",
    "from scipy.io import loadmat\n",
    "from tensorflow.keras.preprocessing.image import ImageDataGenerator\n",
    "from tensorflow.keras.applications.inception_v3 import InceptionV3"
   ]
  },
  {
   "cell_type": "markdown",
   "metadata": {
    "slideshow": {
     "slide_type": "slide"
    }
   },
   "source": [
    "## Transfer learning with InceptionV3"
   ]
  },
  {
   "cell_type": "markdown",
   "metadata": {
    "slideshow": {
     "slide_type": "slide"
    }
   },
   "source": [
    "![](images/inceptionv3.png)"
   ]
  },
  {
   "cell_type": "code",
   "execution_count": null,
   "metadata": {
    "slideshow": {
     "slide_type": "slide"
    }
   },
   "outputs": [],
   "source": [
    "tf.keras.backend.clear_session()"
   ]
  },
  {
   "cell_type": "code",
   "execution_count": null,
   "metadata": {
    "slideshow": {
     "slide_type": "slide"
    }
   },
   "outputs": [],
   "source": [
    "!wget http://www.robots.ox.ac.uk/~vgg/data/flowers/102/102flowers.tgz -O /tmp/flowers.tgz\n",
    "\n",
    "!wget http://www.robots.ox.ac.uk/~vgg/data/flowers/102/imagelabels.mat -O /tmp/imagelabels.mat\n",
    "\n",
    "!wget http://www.robots.ox.ac.uk/~vgg/data/flowers/102/setid.mat -O /tmp/datasplit.mat"
   ]
  },
  {
   "cell_type": "code",
   "execution_count": null,
   "metadata": {
    "slideshow": {
     "slide_type": "slide"
    }
   },
   "outputs": [],
   "source": [
    "labels = loadmat('/tmp/imagelabels.mat')\n",
    "\n",
    "assignments = loadmat('/tmp/datasplit.mat')"
   ]
  },
  {
   "cell_type": "code",
   "execution_count": null,
   "metadata": {
    "slideshow": {
     "slide_type": "slide"
    }
   },
   "outputs": [],
   "source": [
    "labels"
   ]
  },
  {
   "cell_type": "code",
   "execution_count": null,
   "metadata": {
    "slideshow": {
     "slide_type": "slide"
    }
   },
   "outputs": [],
   "source": [
    "assignments"
   ]
  },
  {
   "cell_type": "code",
   "execution_count": null,
   "metadata": {
    "slideshow": {
     "slide_type": "slide"
    }
   },
   "outputs": [],
   "source": [
    "labels = labels['labels']"
   ]
  },
  {
   "cell_type": "code",
   "execution_count": null,
   "metadata": {
    "slideshow": {
     "slide_type": "slide"
    }
   },
   "outputs": [],
   "source": [
    "ROOT_FOLDER = '/tmp/flowers'"
   ]
  },
  {
   "cell_type": "code",
   "execution_count": null,
   "metadata": {
    "slideshow": {
     "slide_type": "slide"
    }
   },
   "outputs": [],
   "source": [
    "def create_folder_structure(root_folder, labels):\n",
    "    unique_labels = np.unique(labels)\n",
    "    subfolders = ('train', 'validation', 'test')\n",
    "    for subfolder_name in subfolders:\n",
    "        for label_id in np.unique(labels):\n",
    "            os.makedirs(f'{root_folder}/{subfolder_name}/{label_id}', exist_ok=True)"
   ]
  },
  {
   "cell_type": "code",
   "execution_count": null,
   "metadata": {
    "slideshow": {
     "slide_type": "slide"
    }
   },
   "outputs": [],
   "source": [
    "def extract_images_to_folders(assignments, labels):\n",
    "    train_ids = set(np.squeeze(assignments['tstid']))\n",
    "    validation_ids = set(np.squeeze(assignments['valid']))\n",
    "    test_ids = set(np.squeeze(assignments['trnid']))\n",
    "    \n",
    "    tar_folder = '/tmp/flowers.tgz'\n",
    "    with tarfile.open(tar_folder, 'r') as tar:\n",
    "        for item in tar:\n",
    "            if item.isfile():\n",
    "                filename = item.name\n",
    "                item.name = filename[4:]\n",
    "                name, _ = os.path.splitext(filename)\n",
    "                file_id = int(name.split('_')[-1])\n",
    "                label = labels[file_id - 1]\n",
    "                if file_id in train_ids:\n",
    "                    tar.extract(item, f'{ROOT_FOLDER}/train/{label}')\n",
    "                elif file_id in validation_ids:\n",
    "                    tar.extract(item, f'{ROOT_FOLDER}/validation/{label}')\n",
    "                else:\n",
    "                    tar.extract(item, f'{ROOT_FOLDER}/test/{label}')"
   ]
  },
  {
   "cell_type": "code",
   "execution_count": null,
   "metadata": {
    "slideshow": {
     "slide_type": "slide"
    }
   },
   "outputs": [],
   "source": [
    "create_folder_structure(ROOT_FOLDER, np.squeeze(labels))"
   ]
  },
  {
   "cell_type": "code",
   "execution_count": null,
   "metadata": {
    "slideshow": {
     "slide_type": "slide"
    }
   },
   "outputs": [],
   "source": [
    "extract_images_to_folders(assignments, np.squeeze(labels))"
   ]
  },
  {
   "cell_type": "code",
   "execution_count": null,
   "metadata": {
    "slideshow": {
     "slide_type": "slide"
    }
   },
   "outputs": [],
   "source": [
    "train_datagen = ImageDataGenerator(rescale=1/255.,\n",
    "                                   rotation_range=15,\n",
    "                                   width_shift_range=0.2,\n",
    "                                   height_shift_range=0.2,\n",
    "                                   zoom_range=0.2,\n",
    "                                   horizontal_flip=True)\n",
    "\n",
    "validation_datagen = ImageDataGenerator(rescale=1/255.)\n",
    "\n",
    "test_datagen = ImageDataGenerator(rescale=1/255.)"
   ]
  },
  {
   "cell_type": "code",
   "execution_count": null,
   "metadata": {
    "slideshow": {
     "slide_type": "slide"
    }
   },
   "outputs": [],
   "source": [
    "train_dir = f'{ROOT_FOLDER}/train'\n",
    "validation_dir =  f'{ROOT_FOLDER}/validation'\n",
    "test_dir =  f'{ROOT_FOLDER}/test'"
   ]
  },
  {
   "cell_type": "code",
   "execution_count": null,
   "metadata": {
    "slideshow": {
     "slide_type": "slide"
    }
   },
   "outputs": [],
   "source": [
    "train_generator = train_datagen.flow_from_directory(train_dir,\n",
    "                                                    batch_size=32,\n",
    "                                                    class_mode='categorical', \n",
    "                                                    target_size=(150, 150))     \n",
    "\n",
    "\n",
    "validation_generator = validation_datagen.flow_from_directory(validation_dir,\n",
    "                                                              batch_size=32,\n",
    "                                                              class_mode='categorical', \n",
    "                                                              target_size=(150, 150))\n",
    "\n",
    "\n",
    "test_generator = test_datagen.flow_from_directory(test_dir,\n",
    "                                                  batch_size=32,\n",
    "                                                  class_mode='categorical', \n",
    "                                                  target_size=(150, 150))"
   ]
  },
  {
   "cell_type": "code",
   "execution_count": null,
   "metadata": {
    "slideshow": {
     "slide_type": "slide"
    }
   },
   "outputs": [],
   "source": [
    "def make_model(size=32, nr_classes=10):\n",
    "    model = tf.keras.models.Sequential([\n",
    "        tf.keras.layers.Conv2D(input_shape=(size, size, 3), filters=16, kernel_size=(3, 3), padding=\"same\", \n",
    "                               activation=\"relu\"),\n",
    "        tf.keras.layers.MaxPooling2D(pool_size=2, strides=2),\n",
    "        tf.keras.layers.Dropout(rate=0.2),\n",
    "        tf.keras.layers.Conv2D(filters=32, kernel_size=(3, 3), padding=\"same\", activation=\"relu\"),\n",
    "        tf.keras.layers.MaxPooling2D(pool_size=2, strides=2),\n",
    "        tf.keras.layers.Dropout(rate=0.2),\n",
    "        tf.keras.layers.Conv2D(filters=64, kernel_size=(3, 3), padding=\"same\", activation=\"relu\"),\n",
    "        tf.keras.layers.MaxPooling2D(pool_size=2, strides=2),\n",
    "        tf.keras.layers.Dropout(rate=0.2),\n",
    "        tf.keras.layers.Flatten(),\n",
    "        tf.keras.layers.Dense(256, kernel_regularizer=tf.keras.regularizers.l2(0.001), activation=\"relu\"),\n",
    "        tf.keras.layers.Dense(nr_classes, activation='softmax')  \n",
    "    ])\n",
    "    return model"
   ]
  },
  {
   "cell_type": "code",
   "execution_count": null,
   "metadata": {
    "slideshow": {
     "slide_type": "slide"
    }
   },
   "outputs": [],
   "source": [
    "tf.keras.backend.clear_session()"
   ]
  },
  {
   "cell_type": "code",
   "execution_count": null,
   "metadata": {
    "slideshow": {
     "slide_type": "slide"
    }
   },
   "outputs": [],
   "source": [
    "model = make_model(size=150, nr_classes=102)"
   ]
  },
  {
   "cell_type": "code",
   "execution_count": null,
   "metadata": {
    "slideshow": {
     "slide_type": "slide"
    }
   },
   "outputs": [],
   "source": [
    "model.summary()"
   ]
  },
  {
   "cell_type": "code",
   "execution_count": null,
   "metadata": {
    "slideshow": {
     "slide_type": "slide"
    }
   },
   "outputs": [],
   "source": [
    "LR_INIT = 0.002\n",
    "BATCH_SIZE = 32\n",
    "EPOCHS = 2\n",
    "\n",
    "\n",
    "def lr_scheduler(epoch):\n",
    "    return LR_INIT * (0.98 ** epoch)\n",
    "\n",
    "\n",
    "model.compile(optimizer=tf.keras.optimizers.Adamax(learning_rate=LR_INIT),\n",
    "              loss='categorical_crossentropy',\n",
    "              metrics=['accuracy'])"
   ]
  },
  {
   "cell_type": "code",
   "execution_count": null,
   "metadata": {
    "slideshow": {
     "slide_type": "slide"
    }
   },
   "outputs": [],
   "source": [
    "history = model.fit(\n",
    "    train_generator,\n",
    "    epochs=EPOCHS,\n",
    "    callbacks=[tf.keras.callbacks.LearningRateScheduler(lr_scheduler)],\n",
    "    validation_data=validation_generator,\n",
    "    verbose=1\n",
    ")"
   ]
  },
  {
   "cell_type": "code",
   "execution_count": null,
   "metadata": {
    "slideshow": {
     "slide_type": "slide"
    }
   },
   "outputs": [],
   "source": [
    "tf.keras.backend.clear_session()"
   ]
  },
  {
   "cell_type": "code",
   "execution_count": null,
   "metadata": {
    "slideshow": {
     "slide_type": "slide"
    }
   },
   "outputs": [],
   "source": [
    "base_model = InceptionV3(input_shape=(150, 150, 3), weights='imagenet', include_top=False)"
   ]
  },
  {
   "cell_type": "code",
   "execution_count": null,
   "metadata": {
    "slideshow": {
     "slide_type": "slide"
    }
   },
   "outputs": [],
   "source": [
    "base_model.summary()"
   ]
  },
  {
   "cell_type": "code",
   "execution_count": null,
   "metadata": {
    "slideshow": {
     "slide_type": "slide"
    }
   },
   "outputs": [],
   "source": [
    "tf.keras.backend.clear_session()"
   ]
  },
  {
   "cell_type": "code",
   "execution_count": null,
   "metadata": {
    "slideshow": {
     "slide_type": "slide"
    }
   },
   "outputs": [],
   "source": [
    "# def build_model():\n",
    "#     base_model = InceptionV3(input_shape=(150, 150, 3), weights='imagenet', include_top=False)\n",
    "#     for layer in base_model.layers:\n",
    "#         layer.trainable = False\n",
    "        \n",
    "#     last_layer = base_model.get_layer('mixed9')\n",
    "#     X = tf.keras.layers.Flatten()(last_layer.output)\n",
    "#     X = tf.keras.layers.Dense(256, activation='relu')(X)\n",
    "#     X = tf.keras.layers.Dropout(0.2)(X)   \n",
    "#     predictions = tf.keras.layers.Dense(102, activation='softmax')(X)\n",
    "#     model = tf.keras.models.Model(inputs=base_model.input, outputs=predictions)\n",
    "#     return model"
   ]
  },
  {
   "cell_type": "code",
   "execution_count": null,
   "metadata": {
    "slideshow": {
     "slide_type": "slide"
    }
   },
   "outputs": [],
   "source": [
    "def build_model():\n",
    "    base_model = InceptionV3(input_shape=(150, 150, 3), weights='imagenet', include_top=False)\n",
    "    for layer in base_model.layers:\n",
    "        layer.trainable = True\n",
    "        #if isinstance(layer, tf.keras.layers.BatchNormalization):\n",
    "        #    layer.momentum = 0.8\n",
    "    \n",
    "    for layer in base_model.layers[:-50]:\n",
    "        if not isinstance(layer, tf.keras.layers.BatchNormalization):\n",
    "            layer.trainable = False\n",
    "        \n",
    "    X = tf.keras.layers.GlobalAveragePooling2D()(base_model.output)\n",
    "    predictions = tf.keras.layers.Dense(102, activation='softmax')(X)\n",
    "    model = tf.keras.models.Model(inputs=base_model.input, outputs=predictions)\n",
    "    return model"
   ]
  },
  {
   "cell_type": "code",
   "execution_count": null,
   "metadata": {
    "slideshow": {
     "slide_type": "slide"
    }
   },
   "outputs": [],
   "source": [
    "model = build_model()"
   ]
  },
  {
   "cell_type": "code",
   "execution_count": null,
   "metadata": {
    "slideshow": {
     "slide_type": "slide"
    }
   },
   "outputs": [],
   "source": [
    "model.summary()"
   ]
  },
  {
   "cell_type": "code",
   "execution_count": null,
   "metadata": {
    "slideshow": {
     "slide_type": "slide"
    }
   },
   "outputs": [],
   "source": [
    "model.compile(optimizer=tf.keras.optimizers.Adamax(lr=0.005), \n",
    "              loss='categorical_crossentropy', \n",
    "              metrics=['accuracy'])"
   ]
  },
  {
   "cell_type": "code",
   "execution_count": null,
   "metadata": {
    "slideshow": {
     "slide_type": "slide"
    }
   },
   "outputs": [],
   "source": [
    "history = model.fit(\n",
    "    train_generator,\n",
    "    validation_data=validation_generator,\n",
    "    epochs=20,\n",
    "    verbose=1)"
   ]
  },
  {
   "cell_type": "code",
   "execution_count": null,
   "metadata": {
    "slideshow": {
     "slide_type": "slide"
    }
   },
   "outputs": [],
   "source": [
    "model.evaluate(test_generator)"
   ]
  },
  {
   "cell_type": "code",
   "execution_count": null,
   "metadata": {
    "slideshow": {
     "slide_type": "slide"
    }
   },
   "outputs": [],
   "source": [
    "acc = history.history['accuracy']\n",
    "val_acc = history.history['val_accuracy']\n",
    "loss = history.history['loss']\n",
    "val_loss = history.history['val_loss']\n",
    "\n",
    "epochs = np.arange(len(acc))"
   ]
  },
  {
   "cell_type": "code",
   "execution_count": null,
   "metadata": {
    "slideshow": {
     "slide_type": "slide"
    }
   },
   "outputs": [],
   "source": [
    "plt.figure(figsize=(16, 4))\n",
    "plt.plot(epochs, acc)\n",
    "plt.plot(epochs, val_acc)\n",
    "plt.title('Training and validation accuracy')\n",
    "plt.show()"
   ]
  },
  {
   "cell_type": "code",
   "execution_count": null,
   "metadata": {
    "slideshow": {
     "slide_type": "slide"
    }
   },
   "outputs": [],
   "source": [
    "plt.figure(figsize=(16, 4))\n",
    "plt.plot(epochs, loss)\n",
    "plt.plot(epochs, val_loss)\n",
    "plt.title('Training and validation loss')\n",
    "plt.show()"
   ]
  },
  {
   "cell_type": "code",
   "execution_count": null,
   "metadata": {
    "slideshow": {
     "slide_type": "slide"
    }
   },
   "outputs": [],
   "source": [
    "tf.keras.backend.clear_session()"
   ]
  }
 ],
 "metadata": {
  "celltoolbar": "Slideshow",
  "kernelspec": {
   "display_name": "Python 3",
   "language": "python",
   "name": "python3"
  },
  "language_info": {
   "codemirror_mode": {
    "name": "ipython",
    "version": 3
   },
   "file_extension": ".py",
   "mimetype": "text/x-python",
   "name": "python",
   "nbconvert_exporter": "python",
   "pygments_lexer": "ipython3",
   "version": "3.8.5"
  }
 },
 "nbformat": 4,
 "nbformat_minor": 4
}

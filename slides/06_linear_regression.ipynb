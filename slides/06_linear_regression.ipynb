{
 "cells": [
  {
   "cell_type": "markdown",
   "metadata": {
    "slideshow": {
     "slide_type": "slide"
    }
   },
   "source": [
    "# Linear regression"
   ]
  },
  {
   "cell_type": "markdown",
   "metadata": {
    "slideshow": {
     "slide_type": "slide"
    }
   },
   "source": [
    "The Boston housing prices dataset"
   ]
  },
  {
   "cell_type": "code",
   "execution_count": null,
   "metadata": {
    "slideshow": {
     "slide_type": "subslide"
    }
   },
   "outputs": [],
   "source": [
    "import matplotlib.pyplot as plt\n",
    "import numpy as np\n",
    "import time\n",
    "\n",
    "from sklearn.datasets import load_boston\n",
    "\n",
    "data = load_boston()\n",
    "X = data.data\n",
    "y = data.target"
   ]
  },
  {
   "cell_type": "code",
   "execution_count": null,
   "metadata": {
    "slideshow": {
     "slide_type": "subslide"
    }
   },
   "outputs": [],
   "source": [
    "print(data.DESCR)"
   ]
  },
  {
   "cell_type": "markdown",
   "metadata": {
    "slideshow": {
     "slide_type": "slide"
    }
   },
   "source": [
    "### Linear regression\n",
    "\n",
    "$x^{(i)}\\in\\mathbb{R}^n$ is the $\\text{i}^{\\text{th}}$ training example.\n",
    "\n",
    "$$\n",
    "h(x) = w_0 + w_1\\cdot x_1 + w_2\\cdot x_2 + \\ldots + w_n\\cdot x_n\n",
    "$$\n",
    "\n",
    "Sometimes the input vector $x$ is extended as follows: $x = (1, x_1, x_2, \\dotsc,x_n)$.\n",
    "\n",
    "\n",
    "$$\n",
    "h_{w} = w^T\\cdot x\n",
    "$$\n",
    "\n",
    "Another notation that can be used:\n",
    "$$\n",
    "h(x) = b + w_1\\cdot x_1 + w_2\\cdot x_2 + \\ldots + w_n\\cdot x_n = w^T\\cdot x + b.\n",
    "$$"
   ]
  },
  {
   "cell_type": "markdown",
   "metadata": {
    "slideshow": {
     "slide_type": "slide"
    }
   },
   "source": [
    "The cost function (objective function) that we would like to minimize:\n",
    "\n",
    "$$\n",
    "J(w) = \\frac{1}{2m}\\sum_{i=1}^{m}\\left(h_w(x^{(i)}) - y^{(i)}\\right)^2 = \\frac{1}{2m}\\sum_{i=1}^{m}\\left(\\hat y^{(i)} - y^{(i)}\\right)^2 = \\frac12 \\text{MSE}\n",
    "$$"
   ]
  },
  {
   "cell_type": "markdown",
   "metadata": {
    "slideshow": {
     "slide_type": "slide"
    }
   },
   "source": [
    "Gradient descent method.\n",
    "\n",
    "$$\n",
    "w_j := w_j - \\alpha\\cdot \\frac{\\partial J(w)}{\\partial w_j} \\qquad (j=0, 1, 2, \\dotsc, n),\n",
    "$$\n",
    "that is,\n",
    "\n",
    "$$\n",
    "w_j := w_j - \\alpha \\frac{1}{m} \\sum_{i=1}^m (h_w(x^{(i)}) - y^{(i)}) x^{(i)}_j \\qquad (j=0, 1, 2, \\dotsc, n)\n",
    "$$"
   ]
  },
  {
   "cell_type": "code",
   "execution_count": null,
   "metadata": {
    "slideshow": {
     "slide_type": "slide"
    }
   },
   "outputs": [],
   "source": [
    "w1 = 1.45\n",
    "w2 = -0.85\n",
    "b = 3.21\n",
    "\n",
    "np.random.seed(1)\n",
    "X = 10 * np.random.rand(120, 2)\n",
    "X = np.concatenate((np.ones((120, 1)), X), axis=1)\n",
    "\n",
    "w = [b, w1, w2]\n",
    "y = np.matmul(X, w) + 0.1 * np.random.randn(120)\n",
    "\n",
    "X_train, X_test = X[:100, :], X[100:, :]\n",
    "y_train, y_test = y[:100], y[100:]"
   ]
  },
  {
   "cell_type": "markdown",
   "metadata": {
    "slideshow": {
     "slide_type": "slide"
    }
   },
   "source": [
    "$$\n",
    "w = X^+y = (X^T\\cdot X)^{-1}X^Ty,\n",
    "$$\n",
    "\n",
    "where $w = X^+y$ is the vector that solves $Xw = y$ in the least-square sense. "
   ]
  },
  {
   "cell_type": "code",
   "execution_count": null,
   "metadata": {
    "slideshow": {
     "slide_type": "fragment"
    }
   },
   "outputs": [],
   "source": [
    "# Both of these give the same result\n",
    "\n",
    "coeffs = np.linalg.solve(np.matmul(X_train.T, X_train), np.matmul(X_train.T, y_train))\n",
    "print(coeffs)\n",
    "\n",
    "coeffs = np.matmul(np.linalg.pinv(X_train), y_train)\n",
    "print(coeffs)"
   ]
  },
  {
   "cell_type": "code",
   "execution_count": null,
   "metadata": {
    "slideshow": {
     "slide_type": "slide"
    }
   },
   "outputs": [],
   "source": [
    "def predict(x, w):\n",
    "    return np.dot(x, w)\n",
    "\n",
    "\n",
    "def compute_cost(X, y, w):\n",
    "    m = len(X)\n",
    "    cost = 0\n",
    "    for x_i, y_i in zip(X, y):\n",
    "        y_i_hat = predict(x_i, w)\n",
    "        cost += (y_i_hat - y_i) ** 2\n",
    "    return cost / (2 * m)"
   ]
  },
  {
   "cell_type": "code",
   "execution_count": null,
   "metadata": {
    "slideshow": {
     "slide_type": "slide"
    }
   },
   "outputs": [],
   "source": [
    "def calc_gradient(X, y, w):\n",
    "    m = len(X)\n",
    "    \n",
    "    grad = np.empty_like(w)\n",
    "    for j in range(len(w)):\n",
    "        dw_j = 0\n",
    "        for x_i, y_i in zip(X, y):\n",
    "            y_i_hat = predict(x_i, w)\n",
    "            dw_j += ((y_i_hat - y_i) * x_i[j])\n",
    "        grad[j] = dw_j / m\n",
    "    return grad\n",
    "\n",
    "\n",
    "def gradient_descent(X, y, alpha, nr_iterations):\n",
    "    _, nr_features = X.shape\n",
    "    w = np.zeros(nr_features)\n",
    "    costs = []\n",
    "    \n",
    "    for _ in range(nr_iterations):\n",
    "        cost = compute_cost(X, y, w)\n",
    "        costs.append(cost)\n",
    "        dw = calc_gradient(X, y, w)\n",
    "        w = w - alpha * dw\n",
    "    return w, costs"
   ]
  },
  {
   "cell_type": "code",
   "execution_count": null,
   "metadata": {
    "slideshow": {
     "slide_type": "slide"
    }
   },
   "outputs": [],
   "source": [
    "t = time.time()\n",
    "weights, costs = gradient_descent(X, y, alpha=0.01, nr_iterations=10000)\n",
    "print(f'Running time: {time.time() - t}')\n",
    "print()\n",
    "print(weights)"
   ]
  },
  {
   "cell_type": "code",
   "execution_count": null,
   "metadata": {
    "slideshow": {
     "slide_type": "slide"
    }
   },
   "outputs": [],
   "source": [
    "figure = plt.figure(figsize=(16, 8))\n",
    "plt.plot(costs)\n",
    "plt.yscale('log')\n",
    "plt.show()"
   ]
  },
  {
   "cell_type": "code",
   "execution_count": null,
   "metadata": {
    "slideshow": {
     "slide_type": "slide"
    }
   },
   "outputs": [],
   "source": [
    "def predict(X, w):\n",
    "    return np.matmul(X, w)\n",
    "\n",
    "\n",
    "def compute_cost(X, y, w):\n",
    "    m = len(X)\n",
    "    y_hat = predict(X, w)\n",
    "    return (1 / (2*m)) * np.sum(np.square(y_hat - y))\n",
    "\n",
    "\n",
    "def calc_gradient(X, y, w):\n",
    "    m = len(X)\n",
    "    y_hat = predict(X, w)\n",
    "    return (1 / m) * np.sum(np.multiply(X, np.expand_dims(y_hat - y, 1)), axis=0)\n",
    "\n",
    "\n",
    "def gradient_descent(X, y, alpha, nr_iterations):\n",
    "    m, nr_features = X.shape\n",
    "    w = np.zeros(nr_features)\n",
    "    costs = []\n",
    "    \n",
    "    for _ in range(nr_iterations):\n",
    "        cost = compute_cost(X, y, w)\n",
    "        costs.append(cost)\n",
    "        dw = calc_gradient(X, y, w)\n",
    "        w = w - alpha * dw\n",
    "    return w, costs"
   ]
  },
  {
   "cell_type": "code",
   "execution_count": null,
   "metadata": {
    "slideshow": {
     "slide_type": "slide"
    }
   },
   "outputs": [],
   "source": [
    "t = time.time()\n",
    "weights, costs = gradient_descent(X, y, alpha=0.01, nr_iterations=10000)\n",
    "print(f'Running time: {time.time() - t}')\n",
    "print()\n",
    "print(weights)"
   ]
  },
  {
   "cell_type": "code",
   "execution_count": null,
   "metadata": {
    "slideshow": {
     "slide_type": "subslide"
    }
   },
   "outputs": [],
   "source": [
    "figure = plt.figure(figsize=(16, 8))\n",
    "plt.plot(costs)\n",
    "plt.yscale('log')\n",
    "plt.show()"
   ]
  },
  {
   "cell_type": "markdown",
   "metadata": {
    "slideshow": {
     "slide_type": "slide"
    }
   },
   "source": [
    "### Regularization"
   ]
  },
  {
   "cell_type": "code",
   "execution_count": null,
   "metadata": {
    "slideshow": {
     "slide_type": "slide"
    }
   },
   "outputs": [],
   "source": [
    "from sklearn.model_selection import train_test_split"
   ]
  },
  {
   "cell_type": "code",
   "execution_count": null,
   "metadata": {
    "slideshow": {
     "slide_type": "fragment"
    }
   },
   "outputs": [],
   "source": [
    "# Generate data\n",
    "\n",
    "np.random.seed(1)\n",
    "data_size = 50\n",
    "\n",
    "xs = np.sort(1.5 * np.random.random(data_size))\n",
    "ys = 2 * np.power(xs, 3) + 1 + np.random.normal(scale=0.5, size=data_size)"
   ]
  },
  {
   "cell_type": "code",
   "execution_count": null,
   "metadata": {
    "slideshow": {
     "slide_type": "slide"
    }
   },
   "outputs": [],
   "source": [
    "plt.figure(figsize=(16, 8))\n",
    "plt.scatter(xs, ys)\n",
    "plt.show()"
   ]
  },
  {
   "cell_type": "code",
   "execution_count": null,
   "metadata": {
    "slideshow": {
     "slide_type": "slide"
    }
   },
   "outputs": [],
   "source": [
    "xs_train, xs_test, y_train, y_test = train_test_split(xs, ys, test_size=0.4)"
   ]
  },
  {
   "cell_type": "code",
   "execution_count": null,
   "metadata": {
    "slideshow": {
     "slide_type": "fragment"
    }
   },
   "outputs": [],
   "source": [
    "def add_powers(x, n):\n",
    "    X = np.empty(shape=(len(x), n+1), dtype=np.float_)\n",
    "    for j in range(n+1):\n",
    "        X[:, j] = np.power(x, j)\n",
    "    return X"
   ]
  },
  {
   "cell_type": "code",
   "execution_count": null,
   "metadata": {
    "slideshow": {
     "slide_type": "slide"
    }
   },
   "outputs": [],
   "source": [
    "X_train = add_powers(xs_train, 12)\n",
    "X_test = add_powers(xs_test, 12)"
   ]
  },
  {
   "cell_type": "code",
   "execution_count": null,
   "metadata": {
    "slideshow": {
     "slide_type": "slide"
    }
   },
   "outputs": [],
   "source": [
    "coeffs = np.matmul(np.linalg.pinv(X_train), y_train)\n",
    "print(coeffs)\n",
    "\n",
    "y_hat = predict(X_train, coeffs)\n",
    "cost = compute_cost(X_train, y_train, coeffs)\n",
    "print(cost)"
   ]
  },
  {
   "cell_type": "code",
   "execution_count": null,
   "metadata": {
    "slideshow": {
     "slide_type": "slide"
    }
   },
   "outputs": [],
   "source": [
    "plt.figure(figsize=(16, 8))\n",
    "plt.scatter(xs_train, y_train)\n",
    "plt.scatter(xs_train, y_hat)\n",
    "plt.show()"
   ]
  },
  {
   "cell_type": "code",
   "execution_count": null,
   "metadata": {
    "slideshow": {
     "slide_type": "slide"
    }
   },
   "outputs": [],
   "source": [
    "y_hat_test = predict(X_test, coeffs)\n",
    "\n",
    "cost = compute_cost(X_test, y_test, coeffs)\n",
    "\n",
    "print(cost)"
   ]
  },
  {
   "cell_type": "code",
   "execution_count": null,
   "metadata": {
    "slideshow": {
     "slide_type": "slide"
    }
   },
   "outputs": [],
   "source": [
    "plt.figure(figsize=(16, 8))\n",
    "plt.scatter(xs_test, y_test)\n",
    "plt.scatter(xs_test, y_hat_test)\n",
    "plt.show()"
   ]
  },
  {
   "cell_type": "markdown",
   "metadata": {
    "slideshow": {
     "slide_type": "slide"
    }
   },
   "source": [
    "Idea: prevent large coefficients to eliminate higher order terms \n",
    "\n",
    "$$\n",
    "J_{\\lambda}(w) = \\frac{1}{2m}\\sum_{i=1}^{m}\\left(h_w(x^{(i)}) - y^{(i)}\\right)^2 + \\lambda\\cdot\\sum_{j=1}^nw_j^2\n",
    "$$\n",
    "\n",
    "This modified cost function can also be minimized exactly:\n",
    "\n",
    "$$\n",
    "w = \\left(X^TX + \\lambda \\cdot\\text{diag}(0,1,1\\dotsc,1)\\right)^{-1}X^Ty\n",
    "$$"
   ]
  },
  {
   "cell_type": "code",
   "execution_count": null,
   "metadata": {
    "slideshow": {
     "slide_type": "slide"
    }
   },
   "outputs": [],
   "source": [
    "def lhs(X, lambda_):\n",
    "    _, nr_cols = X.shape\n",
    "    d = np.ones(nr_cols)\n",
    "    d[0] = 0\n",
    "    D = np.diag(d)\n",
    "    return np.matmul(X_train.T, X_train) + lambda_ * D\n",
    "\n",
    "\n",
    "lambda_ = 10\n",
    "coeffs = np.linalg.solve(lhs(X_train, lambda_), np.matmul(X_train.T, y_train))\n",
    "print(coeffs)\n",
    "\n",
    "\n",
    "y_hat = predict(X_train, coeffs)\n",
    "cost = compute_cost(X_train, y_train, coeffs)\n",
    "print(cost)"
   ]
  },
  {
   "cell_type": "code",
   "execution_count": null,
   "metadata": {
    "slideshow": {
     "slide_type": "slide"
    }
   },
   "outputs": [],
   "source": [
    "plt.figure(figsize=(16, 8))\n",
    "plt.scatter(xs_train, y_train)\n",
    "plt.scatter(xs_train, y_hat)\n",
    "plt.show()"
   ]
  },
  {
   "cell_type": "code",
   "execution_count": null,
   "metadata": {
    "slideshow": {
     "slide_type": "slide"
    }
   },
   "outputs": [],
   "source": [
    "y_hat_test = predict(X_test, coeffs)\n",
    "\n",
    "cost = compute_cost(X_test, y_test, coeffs)\n",
    "print(cost)"
   ]
  },
  {
   "cell_type": "code",
   "execution_count": null,
   "metadata": {
    "slideshow": {
     "slide_type": "slide"
    }
   },
   "outputs": [],
   "source": [
    "plt.figure(figsize=(16, 10))\n",
    "plt.scatter(xs_test, y_test)\n",
    "plt.scatter(xs_test, y_hat_test)\n",
    "plt.show()"
   ]
  }
 ],
 "metadata": {
  "celltoolbar": "Slideshow",
  "kernelspec": {
   "display_name": "Python 3",
   "language": "python",
   "name": "python3"
  },
  "language_info": {
   "codemirror_mode": {
    "name": "ipython",
    "version": 3
   },
   "file_extension": ".py",
   "mimetype": "text/x-python",
   "name": "python",
   "nbconvert_exporter": "python",
   "pygments_lexer": "ipython3",
   "version": "3.8.5"
  }
 },
 "nbformat": 4,
 "nbformat_minor": 4
}

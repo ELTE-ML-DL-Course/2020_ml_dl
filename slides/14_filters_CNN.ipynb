{
 "cells": [
  {
   "cell_type": "markdown",
   "metadata": {
    "slideshow": {
     "slide_type": "slide"
    }
   },
   "source": [
    "## What do convolutional nets learn?\n",
    "\n",
    "\n",
    "Finding the visual patterns that CNN filters respond the most.\n",
    "\n",
    "A ResNet50 example: https://keras.io/examples/vision/visualizing_what_convnets_learn/"
   ]
  },
  {
   "cell_type": "code",
   "execution_count": null,
   "metadata": {
    "slideshow": {
     "slide_type": "slide"
    }
   },
   "outputs": [],
   "source": [
    "import matplotlib.pyplot as plt\n",
    "import numpy as np\n",
    "import os\n",
    "import tarfile\n",
    "import tensorflow as tf\n",
    "import tensorflow.keras.backend as K\n",
    "\n",
    "from scipy import misc\n",
    "from PIL import Image\n",
    "from sklearn.metrics import confusion_matrix"
   ]
  },
  {
   "cell_type": "code",
   "execution_count": null,
   "metadata": {
    "slideshow": {
     "slide_type": "slide"
    }
   },
   "outputs": [],
   "source": [
    "with tarfile.open(\"data/cifar.tgz\",\"r\") as tar:\n",
    "    tar.extractall(\"/tmp\")"
   ]
  },
  {
   "cell_type": "code",
   "execution_count": null,
   "metadata": {
    "slideshow": {
     "slide_type": "slide"
    }
   },
   "outputs": [],
   "source": [
    "folder = \"/tmp/cifar\"\n",
    "\n",
    "\n",
    "def get_filenames(folder):\n",
    "    return [f.name for f in os.scandir(folder) if f.is_file()]\n",
    "\n",
    "\n",
    "def read_cifar_dataset(folder):\n",
    "    training_folder = f\"{folder}/train\"\n",
    "    test_folder = f\"{folder}/test\"\n",
    "    X_train, y_train = read_images_in_folder(training_folder)\n",
    "    X_test, y_test = read_images_in_folder(test_folder)\n",
    "    return (X_train, y_train), (X_test, y_test)\n",
    "\n",
    "\n",
    "def read_images_in_folder(folder):\n",
    "    filenames = get_filenames(folder)\n",
    "    images = []\n",
    "    labels = []\n",
    "    for filename in filenames:\n",
    "        path = f\"{folder}/{filename}\"\n",
    "        name, _ = os.path.splitext(path)\n",
    "        label = name.split(\"_\")[-1]\n",
    "        image = np.array(Image.open(path)) / 255.0\n",
    "        images.append(image)\n",
    "        labels.append(label)\n",
    "    return np.array(images), np.array(labels)"
   ]
  },
  {
   "cell_type": "code",
   "execution_count": null,
   "metadata": {
    "slideshow": {
     "slide_type": "slide"
    }
   },
   "outputs": [],
   "source": [
    "(X_train, y_train), (X_test, y_test) = read_cifar_dataset(folder)"
   ]
  },
  {
   "cell_type": "code",
   "execution_count": null,
   "metadata": {
    "slideshow": {
     "slide_type": "slide"
    }
   },
   "outputs": [],
   "source": [
    "print(\"Training examples:\", X_train.shape, y_train.shape)\n",
    "print(\"Test examples:\", X_test.shape, y_test.shape)"
   ]
  },
  {
   "cell_type": "code",
   "execution_count": null,
   "metadata": {
    "slideshow": {
     "slide_type": "slide"
    }
   },
   "outputs": [],
   "source": [
    "def print_image_for_each_label(X, y):\n",
    "    fig = plt.figure(figsize=(16, 6))\n",
    "    labels = np.unique(y)\n",
    "    for p, label in enumerate(labels):\n",
    "        ix = np.random.choice(np.where(y==label)[0])\n",
    "        image = X[ix, :, :, :]\n",
    "        ax = fig.add_subplot(2, 5, p+1)\n",
    "        plt.imshow(image, cmap=plt.cm.binary)\n",
    "        ax.set_title(label)\n",
    "    plt.show()"
   ]
  },
  {
   "cell_type": "code",
   "execution_count": null,
   "metadata": {
    "slideshow": {
     "slide_type": "slide"
    }
   },
   "outputs": [],
   "source": [
    "print_image_for_each_label(X_train, y_train)"
   ]
  },
  {
   "cell_type": "code",
   "execution_count": null,
   "metadata": {
    "slideshow": {
     "slide_type": "slide"
    }
   },
   "outputs": [],
   "source": [
    "def categorical_to_numeric(y):\n",
    "    _, indices = np.unique(y, return_inverse=True)\n",
    "    return indices"
   ]
  },
  {
   "cell_type": "code",
   "execution_count": null,
   "metadata": {
    "slideshow": {
     "slide_type": "slide"
    }
   },
   "outputs": [],
   "source": [
    "y_train = categorical_to_numeric(y_train)\n",
    "y_test = categorical_to_numeric(y_test)"
   ]
  },
  {
   "cell_type": "code",
   "execution_count": null,
   "metadata": {
    "slideshow": {
     "slide_type": "slide"
    }
   },
   "outputs": [],
   "source": [
    "tf.keras.backend.clear_session()"
   ]
  },
  {
   "cell_type": "code",
   "execution_count": null,
   "metadata": {
    "slideshow": {
     "slide_type": "slide"
    }
   },
   "outputs": [],
   "source": [
    "def make_model(size=32, nr_classes=10):\n",
    "    model = tf.keras.models.Sequential([\n",
    "        tf.keras.layers.Conv2D(input_shape=(size, size, 3), filters=16, kernel_size=(3, 3), padding=\"same\"),\n",
    "        tf.keras.layers.LeakyReLU(0.1, name='activation_0'),\n",
    "        tf.keras.layers.MaxPooling2D(pool_size=2, strides=2),\n",
    "        tf.keras.layers.Dropout(rate=0.2),\n",
    "        \n",
    "        tf.keras.layers.Conv2D(filters=32, kernel_size=(3, 3), padding=\"same\"),\n",
    "        tf.keras.layers.LeakyReLU(0.1, name='activation_1'),\n",
    "        tf.keras.layers.MaxPooling2D(pool_size=2, strides=2),\n",
    "        tf.keras.layers.Dropout(rate=0.2),\n",
    "        \n",
    "        tf.keras.layers.Conv2D(filters=64, kernel_size=(3, 3), padding=\"same\"),\n",
    "        tf.keras.layers.LeakyReLU(0.1, name='activation_2'),\n",
    "        tf.keras.layers.MaxPooling2D(pool_size=2, strides=2),\n",
    "        tf.keras.layers.Dropout(rate=0.2),\n",
    "        \n",
    "        tf.keras.layers.Flatten(),\n",
    "        tf.keras.layers.Dense(256, kernel_regularizer=tf.keras.regularizers.l2(0.001), activation=\"relu\"),\n",
    "        tf.keras.layers.Dense(nr_classes, activation='softmax')  \n",
    "    ])\n",
    "    return model"
   ]
  },
  {
   "cell_type": "code",
   "execution_count": null,
   "metadata": {
    "slideshow": {
     "slide_type": "slide"
    }
   },
   "outputs": [],
   "source": [
    "model = make_model()"
   ]
  },
  {
   "cell_type": "code",
   "execution_count": null,
   "metadata": {
    "slideshow": {
     "slide_type": "slide"
    }
   },
   "outputs": [],
   "source": [
    "model.summary()"
   ]
  },
  {
   "cell_type": "code",
   "execution_count": null,
   "metadata": {
    "slideshow": {
     "slide_type": "slide"
    }
   },
   "outputs": [],
   "source": [
    "LR_INIT = 0.002\n",
    "BATCH_SIZE = 32\n",
    "EPOCHS = 100\n",
    "\n",
    "\n",
    "class Condition(tf.keras.callbacks.Callback):\n",
    "    expected_accuracy = 0.7\n",
    "\n",
    "    def on_epoch_end(self, epoch, logs=None):\n",
    "        if(logs.get('val_accuracy') >= self.expected_accuracy):\n",
    "            print(f\"\\nReached {self.expected_accuracy * 100}% validation accuracy so cancelling training!\")\n",
    "            self.model.stop_training = True\n",
    "\n",
    "    def on_epoch_begin(self, epoch, logs=None):\n",
    "        print(\"Learning rate:\", tf.keras.backend.get_value(model.optimizer.lr))\n",
    "\n",
    "\n",
    "def lr_scheduler(epoch):\n",
    "    return LR_INIT * (0.98 ** epoch)"
   ]
  },
  {
   "cell_type": "code",
   "execution_count": null,
   "metadata": {
    "slideshow": {
     "slide_type": "slide"
    }
   },
   "outputs": [],
   "source": [
    "model.compile(optimizer=tf.keras.optimizers.Adamax(learning_rate=LR_INIT),\n",
    "              loss='sparse_categorical_crossentropy',\n",
    "              metrics=['accuracy'])"
   ]
  },
  {
   "cell_type": "code",
   "execution_count": null,
   "metadata": {
    "slideshow": {
     "slide_type": "slide"
    }
   },
   "outputs": [],
   "source": [
    "condition = Condition()\n",
    "\n",
    "\n",
    "history = model.fit(\n",
    "    X_train, \n",
    "    y_train, \n",
    "    batch_size=BATCH_SIZE, \n",
    "    epochs=EPOCHS,\n",
    "    callbacks=[tf.keras.callbacks.LearningRateScheduler(lr_scheduler), condition],\n",
    "    validation_data=(X_test, y_test),\n",
    "    verbose=1\n",
    ")"
   ]
  },
  {
   "cell_type": "code",
   "execution_count": null,
   "metadata": {
    "slideshow": {
     "slide_type": "slide"
    }
   },
   "outputs": [],
   "source": [
    "def maximum_stimuli(input_img, filter_ix, submodel, nr_iterations, learning_rate):\n",
    "    for _ in range(nr_iterations):\n",
    "        with tf.GradientTape() as tape: \n",
    "            activation = submodel(input_img)\n",
    "            loss = K.mean(activation[:, :, :, filter_ix])\n",
    "            gradients = tape.gradient(loss, input_img)\n",
    "\n",
    "        gradients = tf.math.l2_normalize(gradients)\n",
    "        input_img.assign_add(learning_rate * gradients)\n",
    "    return input_img\n",
    "\n",
    "\n",
    "def scale_image(image):\n",
    "    m = np.mean(image)\n",
    "    s = np.std(image, ddof=1)\n",
    "    image = 0.15 * (image - m) / s + 0.5\n",
    "    image = np.clip(image, 0, 1)\n",
    "    return image"
   ]
  },
  {
   "cell_type": "code",
   "execution_count": null,
   "metadata": {
    "slideshow": {
     "slide_type": "slide"
    }
   },
   "outputs": [],
   "source": [
    "def calc_maximum_stimuli(model, layer_name, nr_iterations=300, learning_rate=0.1):\n",
    "    _, width, height, _ = model.input_shape\n",
    "    layer = model.get_layer(layer_name)\n",
    "    extractor = tf.keras.Model(inputs=model.inputs, outputs=layer.output)\n",
    "    nr_filters = layer.output_shape[-1]\n",
    "    output_images = []\n",
    "    for ix in range(nr_filters):\n",
    "        input_img = tf.Variable(0.25 * np.random.random(size=(1, width, height, 3)))\n",
    "        output_img = scale_image(maximum_stimuli(input_img, ix, extractor, nr_iterations, learning_rate)[0])\n",
    "        output_images.append(output_img)\n",
    "    return output_images"
   ]
  },
  {
   "cell_type": "code",
   "execution_count": null,
   "metadata": {
    "slideshow": {
     "slide_type": "slide"
    }
   },
   "outputs": [],
   "source": [
    "def print_output_images(output_images):\n",
    "    nr_filters = len(output_images)\n",
    "    nr_rows = nr_filters // 2\n",
    "    \n",
    "    fig = plt.figure(figsize=(16, 2 * nr_rows))\n",
    "    for ix, image in enumerate(output_images):\n",
    "        ax = fig.add_subplot(nr_rows, 8, ix+1)\n",
    "        ax.axis('off')\n",
    "        label = f'Filter {ix}'\n",
    "        plt.imshow(image)\n",
    "        ax.set_title(label)\n",
    "    plt.show()"
   ]
  },
  {
   "cell_type": "code",
   "execution_count": null,
   "metadata": {
    "slideshow": {
     "slide_type": "slide"
    }
   },
   "outputs": [],
   "source": [
    "output_images = calc_maximum_stimuli(model, 'activation_0')"
   ]
  },
  {
   "cell_type": "code",
   "execution_count": null,
   "metadata": {
    "slideshow": {
     "slide_type": "slide"
    }
   },
   "outputs": [],
   "source": [
    "print_output_images(output_images)"
   ]
  },
  {
   "cell_type": "code",
   "execution_count": null,
   "metadata": {
    "slideshow": {
     "slide_type": "slide"
    }
   },
   "outputs": [],
   "source": [
    "output_images = calc_maximum_stimuli(model, 'activation_1')"
   ]
  },
  {
   "cell_type": "code",
   "execution_count": null,
   "metadata": {
    "slideshow": {
     "slide_type": "slide"
    }
   },
   "outputs": [],
   "source": [
    "print_output_images(output_images)"
   ]
  },
  {
   "cell_type": "code",
   "execution_count": null,
   "metadata": {
    "slideshow": {
     "slide_type": "slide"
    }
   },
   "outputs": [],
   "source": [
    "output_images = calc_maximum_stimuli(model, 'activation_2')"
   ]
  },
  {
   "cell_type": "code",
   "execution_count": null,
   "metadata": {
    "slideshow": {
     "slide_type": "slide"
    }
   },
   "outputs": [],
   "source": [
    "print_output_images(output_images)"
   ]
  }
 ],
 "metadata": {
  "celltoolbar": "Slideshow",
  "kernelspec": {
   "display_name": "Python 3",
   "language": "python",
   "name": "python3"
  },
  "language_info": {
   "codemirror_mode": {
    "name": "ipython",
    "version": 3
   },
   "file_extension": ".py",
   "mimetype": "text/x-python",
   "name": "python",
   "nbconvert_exporter": "python",
   "pygments_lexer": "ipython3",
   "version": "3.8.5"
  }
 },
 "nbformat": 4,
 "nbformat_minor": 4
}
